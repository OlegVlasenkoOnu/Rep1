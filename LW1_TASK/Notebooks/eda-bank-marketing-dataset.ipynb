{
 "cells": [
  {
   "cell_type": "code",
   "execution_count": null,
   "metadata": {
    "_cell_guid": "b1076dfc-b9ad-4769-8c92-a6c4dae69d19",
    "_uuid": "8f2839f25d086af736a60e9eeb907d3b93b6e0e5"
   },
   "outputs": [],
   "source": [
    "# Input data files are available in the \"../input/\" directory.\n",
    "# For example, running this (by clicking run or pressing Shift+Enter) will list the files in the input directory\n",
    "\n",
    "import os\n",
    "print(os.listdir(\"../input\"))\n",
    "\n",
    "# Any results you write to the current directory are saved as output."
   ]
  },
  {
   "cell_type": "markdown",
   "metadata": {
    "_cell_guid": "79c7e3d0-c299-4dcb-8224-4455121ee9b0",
    "_uuid": "d629ff2d2480ee46fbb7e2d37f6b5fab8052498a"
   },
   "source": [
    "Підключіть необхідні бібліотеки."
   ]
  },
  {
   "cell_type": "code",
   "execution_count": null,
   "metadata": {
    "_uuid": "a1060e8e1885cc5395a732755855c65507152775"
   },
   "outputs": [],
   "source": [
    "# import numpy as np\n",
    "# import pandas as pd\n",
    "# import matplotlib.pyplot as plt\n",
    "# import seaborn as sns\n",
    "# sns.set(rc={'figure.figsize':(10, 8)}); # you can change this if needed"
   ]
  },
  {
   "cell_type": "markdown",
   "metadata": {},
   "source": [
    "## Data loading"
   ]
  },
  {
   "cell_type": "markdown",
   "metadata": {
    "_uuid": "7638c27c3c61f69a96be6096c48e50a8cfa58b87"
   },
   "source": [
    "Завантажте дані. Вони знаходяться у директорії input."
   ]
  },
  {
   "cell_type": "code",
   "execution_count": null,
   "metadata": {
    "_uuid": "b547d9151495ae3d598a8a7ee31cf56e166353e2"
   },
   "outputs": [],
   "source": [
    "# df = pd.read_csv(...)"
   ]
  },
  {
   "cell_type": "markdown",
   "metadata": {},
   "source": [
    "## Data understanding\n",
    "\n",
    "* Виведіть загальну інформацію про набір даних. Яку кількість змінних він містить? Який тип змінних? Чи багато пропущених значень?\n",
    "* Виведіть описову статистику по числовим змінним. Зробіть візуалізацію розподілів найцікавіших із них. Що можна сказати про наявність помилкових значень? Чи багато нетипових значень?\n",
    "* Виведіть описову статистику по категоріальним змінним. Зробіть візуалізацію розподілів найцікавіших із них."
   ]
  },
  {
   "cell_type": "code",
   "execution_count": null,
   "metadata": {},
   "outputs": [],
   "source": [
    "# Your code"
   ]
  },
  {
   "cell_type": "markdown",
   "metadata": {},
   "source": [
    "## Data cleaning & Analyzing relationships\n",
    "\n",
    "У подальших етапах за необхідності видаляйте (або заповнюйте певним чином) пропущені значення та/або викиди (outliers). Цей крок не є обов'язковим, проте слід пам'ятати, що деякі коефіцієнти кореляції та моделі чутливі до наявності нетипових значень у даних."
   ]
  },
  {
   "cell_type": "markdown",
   "metadata": {
    "_uuid": "35e4f8b27ba039d58bec483c3d0bba58e8ac9458"
   },
   "source": [
    "Який середній вік неодружених клієнтів?"
   ]
  },
  {
   "cell_type": "code",
   "execution_count": null,
   "metadata": {
    "_uuid": "ea1fe73734223ed7f2e8db41f0a1850bb55d8eaa"
   },
   "outputs": [],
   "source": [
    "# Your code"
   ]
  },
  {
   "cell_type": "markdown",
   "metadata": {
    "_uuid": "c4066eda5c9caf7d997264b27c1c180369c2ae09"
   },
   "source": [
    "В який день тижня (ознака **day_of_week**) найчастіше дзвонили клієнтам, які відмовилися від депозиту?"
   ]
  },
  {
   "cell_type": "code",
   "execution_count": null,
   "metadata": {
    "_uuid": "112bd8744be7266be28009af0c710f868e1ee397"
   },
   "outputs": [],
   "source": [
    "# Your code"
   ]
  },
  {
   "cell_type": "markdown",
   "metadata": {
    "_uuid": "b0de879a489f8021c61333df10c4534ed9e077ab"
   },
   "source": [
    "Побудуйте інфографіку за ознаками **marital** та **y**. Які висновки можна зробити?"
   ]
  },
  {
   "cell_type": "code",
   "execution_count": null,
   "metadata": {
    "_uuid": "73723ebd755725ec07f6ec641dc611bb75f4da6b"
   },
   "outputs": [],
   "source": [
    "# Your code"
   ]
  },
  {
   "cell_type": "markdown",
   "metadata": {
    "_uuid": "daec9e3257f7c09ad72e69e8fd49ca52b4cc74b4"
   },
   "source": [
    "Чи є зв'язок між наявністю кредиту (**default**) у клієнта та результатом? Побудуйте інфографіку."
   ]
  },
  {
   "cell_type": "code",
   "execution_count": null,
   "metadata": {
    "_uuid": "5005e5a7b32e3d916eb7216b5d81db285ea6f76a"
   },
   "outputs": [],
   "source": [
    "# Your code"
   ]
  },
  {
   "cell_type": "markdown",
   "metadata": {
    "_uuid": "8e8b6b7aa82776eb5e4a28e5217484fc6012b375"
   },
   "source": [
    "Візуалізуйте інформацію про рівень освіти залежно від середнього віку. Чи є статистично значущим взаємозв'язок між ними?"
   ]
  },
  {
   "cell_type": "code",
   "execution_count": null,
   "metadata": {
    "_uuid": "f2a99898c1952e70cfa64f29e76e6eb55a59f169"
   },
   "outputs": [],
   "source": [
    "# Your code"
   ]
  },
  {
   "cell_type": "markdown",
   "metadata": {
    "_uuid": "57507a8292cab204329204effb8d717b71a8c117"
   },
   "source": [
    "Що можна сказати про зв'язок між тривалістю контакту (ознака **duration**) та віком клієнта? Знайдіть коефіцієнт кореляції."
   ]
  },
  {
   "cell_type": "code",
   "execution_count": null,
   "metadata": {
    "_uuid": "4a2dee97638228fd711c336ff1bbf917d6d62aa9"
   },
   "outputs": [],
   "source": [
    "# Your code"
   ]
  },
  {
   "cell_type": "markdown",
   "metadata": {
    "_uuid": "6c97ed03bca4e706b836e07e1f2d6cfaa35afd38"
   },
   "source": [
    "Як пов'язані ознаки **education** та **housing**?"
   ]
  },
  {
   "cell_type": "code",
   "execution_count": null,
   "metadata": {
    "_uuid": "74fb43d87dbcad0b3d58c89bd4427f49c9eb59de"
   },
   "outputs": [],
   "source": [
    "# Your code"
   ]
  },
  {
   "cell_type": "markdown",
   "metadata": {
    "_uuid": "44bf61d231e373547197afc53c049f97bcd8dee2"
   },
   "source": [
    "Які ще інсайти можна знайти в наявних даних? Творче завдання."
   ]
  },
  {
   "cell_type": "code",
   "execution_count": null,
   "metadata": {
    "_uuid": "52f95916fef96cecf13d16b2734a4cc5e6db0bfd"
   },
   "outputs": [],
   "source": [
    "# Your code"
   ]
  }
 ],
 "metadata": {
  "kaggle": {
   "accelerator": "none",
   "dataSources": [
    {
     "datasetId": 30368,
     "sourceId": 38700,
     "sourceType": "datasetVersion"
    }
   ],
   "dockerImageVersionId": 22557,
   "isGpuEnabled": false,
   "isInternetEnabled": false,
   "language": "python",
   "sourceType": "notebook"
  },
  "kernelspec": {
   "display_name": "Python 3 (ipykernel)",
   "language": "python",
   "name": "python3"
  },
  "language_info": {
   "codemirror_mode": {
    "name": "ipython",
    "version": 3
   },
   "file_extension": ".py",
   "mimetype": "text/x-python",
   "name": "python",
   "nbconvert_exporter": "python",
   "pygments_lexer": "ipython3",
   "version": "3.8.7rc1"
  }
 },
 "nbformat": 4,
 "nbformat_minor": 4
}
