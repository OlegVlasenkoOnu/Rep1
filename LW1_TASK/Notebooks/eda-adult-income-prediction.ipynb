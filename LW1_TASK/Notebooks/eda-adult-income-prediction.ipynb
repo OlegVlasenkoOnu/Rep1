{
 "cells": [
  {
   "cell_type": "code",
   "execution_count": null,
   "metadata": {
    "_cell_guid": "b1076dfc-b9ad-4769-8c92-a6c4dae69d19",
    "_uuid": "8f2839f25d086af736a60e9eeb907d3b93b6e0e5"
   },
   "outputs": [],
   "source": [
    "# Input data files are available in the \"../input/\" directory.\n",
    "# For example, running this (by clicking run or pressing Shift+Enter) will list the files in the input directory\n",
    "\n",
    "import os\n",
    "print(os.listdir(\"../input\"))\n",
    "\n",
    "# Any results you write to the current directory are saved as output."
   ]
  },
  {
   "cell_type": "markdown",
   "metadata": {
    "_cell_guid": "79c7e3d0-c299-4dcb-8224-4455121ee9b0",
    "_uuid": "d629ff2d2480ee46fbb7e2d37f6b5fab8052498a"
   },
   "source": [
    "Підключіть необхідні бібліотеки."
   ]
  },
  {
   "cell_type": "code",
   "execution_count": null,
   "metadata": {
    "_uuid": "cc70d383ed8f848363039e11580226fdfb8d293d"
   },
   "outputs": [],
   "source": [
    "# import numpy as np\n",
    "# import pandas as pd\n",
    "# import matplotlib.pyplot as plt\n",
    "# import seaborn as sns\n",
    "# sns.set(rc={'figure.figsize':(10, 8)}); # you can change this if needed"
   ]
  },
  {
   "cell_type": "markdown",
   "metadata": {},
   "source": [
    "## Data loading"
   ]
  },
  {
   "cell_type": "markdown",
   "metadata": {
    "_uuid": "5a63d69d70b19240f3a13ca4044f64c66956b900"
   },
   "source": [
    "Завантажте дані. Вони знаходяться в директорії input."
   ]
  },
  {
   "cell_type": "code",
   "execution_count": null,
   "metadata": {
    "_uuid": "01413d4929469719a777cc6c520a8822debb9dda"
   },
   "outputs": [],
   "source": [
    "# df = pd.read_csv(...)"
   ]
  },
  {
   "cell_type": "markdown",
   "metadata": {},
   "source": [
    "## Data understanding\n",
    "\n",
    "* Виведіть загальну інформацію про набір даних. Яку кількість змінних він містить? Який тип змінних? Чи багато пропущених значень?\n",
    "* Виведіть описову статистику по числовим змінним. Зробіть візуалізацію розподілів найцікавіших із них. Що можна сказати про наявність помилкових значень? Чи багато нетипових значень?\n",
    "* Виведіть описову статистику по категоріальним змінним. Зробіть візуалізацію розподілів найцікавіших із них."
   ]
  },
  {
   "cell_type": "code",
   "execution_count": null,
   "metadata": {},
   "outputs": [],
   "source": [
    "# Your code"
   ]
  },
  {
   "cell_type": "markdown",
   "metadata": {},
   "source": [
    "## Data cleaning & Analyzing relationships\n",
    "\n",
    "У подальших етапах за необхідності видаляйте (або заповнюйте певним чином) пропущені значення та/або викиди (outliers). Цей крок не є обов'язковим, проте слід пам'ятати, що деякі коефіцієнти кореляції та моделі чутливі до наявності нетипових значень у даних."
   ]
  },
  {
   "cell_type": "markdown",
   "metadata": {
    "_uuid": "49ff7834bf9d23c04bce631039d147afab2bb4a2"
   },
   "source": [
    "Візуалізуйте розподіл значень віку для осіб, які заробляють > 50K та < 50K. Знайдіть середнє та стандартне відхилення віку у кожній із груп."
   ]
  },
  {
   "cell_type": "code",
   "execution_count": null,
   "metadata": {
    "_uuid": "92c1affbe77e9172cf4c0837cd52e19c84856c85"
   },
   "outputs": [],
   "source": [
    "# Your code"
   ]
  },
  {
   "cell_type": "markdown",
   "metadata": {
    "_uuid": "2b849f48732181b6f376190ddbb28d6c7b4658e1"
   },
   "source": [
    "Чи вірно, що люди, які заробляють > 50K, мають як мінімум повну середню освіту (значення **education** --- Bachelors, Prof-school, Assoc-acdm, Assoc-voc, Masters або Doctorate)?"
   ]
  },
  {
   "cell_type": "code",
   "execution_count": null,
   "metadata": {
    "_uuid": "9746b6f756277a14bd8285298a23546d07c31570"
   },
   "outputs": [],
   "source": [
    "# Your code"
   ]
  },
  {
   "cell_type": "markdown",
   "metadata": {
    "_uuid": "778e25ae19403ddec899f4de44dff9350520ba8c"
   },
   "source": [
    "Які чоловіки заробляють в середньому більше --- одружені чи неодружені?"
   ]
  },
  {
   "cell_type": "code",
   "execution_count": null,
   "metadata": {
    "_uuid": "2c6f4ae7ca4560885f837849d35cc690c9b97269"
   },
   "outputs": [],
   "source": [
    "# Your code"
   ]
  },
  {
   "cell_type": "markdown",
   "metadata": {
    "_uuid": "d957c4a8ddf534fcbc641192f0fa4a5fa10572e8"
   },
   "source": [
    "Яка максимальна кількість робочих годин на тиждень? Скільки людей працюють таку кількість часу та який серед них відсоток тих, хто заробляє багато?"
   ]
  },
  {
   "cell_type": "code",
   "execution_count": null,
   "metadata": {
    "_uuid": "98d07315495a41047b2be54b292f5c87e257287f"
   },
   "outputs": [],
   "source": [
    "# Your code"
   ]
  },
  {
   "cell_type": "markdown",
   "metadata": {
    "_uuid": "a37cde653c1a97b41cedda5f78340344f73074d7"
   },
   "source": [
    "Що можна сказати про кореляцію між кількістю робочих годин та зарплатою? Чи є вона статистично значущою?"
   ]
  },
  {
   "cell_type": "code",
   "execution_count": null,
   "metadata": {
    "_uuid": "c838dbab313e5a92265ca186f0b505d48ddec3eb"
   },
   "outputs": [],
   "source": [
    "# Your code"
   ]
  },
  {
   "cell_type": "markdown",
   "metadata": {
    "_uuid": "0f6d25e18cda3a535a206698599159c64a9956bb"
   },
   "source": [
    "Як пов'язаний рівень освіти та кількість робочих годин? Не забувайте про візуалізацію інформації."
   ]
  },
  {
   "cell_type": "code",
   "execution_count": null,
   "metadata": {
    "_uuid": "3e32f9745b36403dce44fe385015d6038218c218"
   },
   "outputs": [],
   "source": [
    "# Your code"
   ]
  },
  {
   "cell_type": "markdown",
   "metadata": {
    "_uuid": "8fdc7e950c79ce7902ed97245937d69fb9271c0d"
   },
   "source": [
    "Візуалізуйте розподіл заробітків (групи > 50K та < 50K) по країнах. Який висновок можна зробити?"
   ]
  },
  {
   "cell_type": "code",
   "execution_count": null,
   "metadata": {
    "_uuid": "e580f4252bed4148f34321c24199bdad1d18fd2e"
   },
   "outputs": [],
   "source": [
    "# Your code"
   ]
  },
  {
   "cell_type": "markdown",
   "metadata": {
    "_uuid": "35e82827adda575563f1bd6b2e9f05ec83b027c6"
   },
   "source": [
    "Які ще інсайти можна знайти в наявних даних? Творче завдання."
   ]
  },
  {
   "cell_type": "code",
   "execution_count": null,
   "metadata": {
    "_uuid": "4266a1afa54944d9555c9c89f1e825289afd177f"
   },
   "outputs": [],
   "source": [
    "# Your code"
   ]
  }
 ],
 "metadata": {
  "kaggle": {
   "accelerator": "none",
   "dataSources": [
    {
     "datasetId": 222,
     "sourceId": 472,
     "sourceType": "datasetVersion"
    }
   ],
   "dockerImageVersionId": 22557,
   "isGpuEnabled": false,
   "isInternetEnabled": false,
   "language": "python",
   "sourceType": "notebook"
  },
  "kernelspec": {
   "display_name": "Python 3 (ipykernel)",
   "language": "python",
   "name": "python3"
  },
  "language_info": {
   "codemirror_mode": {
    "name": "ipython",
    "version": 3
   },
   "file_extension": ".py",
   "mimetype": "text/x-python",
   "name": "python",
   "nbconvert_exporter": "python",
   "pygments_lexer": "ipython3",
   "version": "3.8.7rc1"
  }
 },
 "nbformat": 4,
 "nbformat_minor": 4
}
