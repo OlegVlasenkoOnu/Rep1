{
 "cells": [
  {
   "cell_type": "markdown",
   "metadata": {
    "_uuid": "217a5a64e3cf53f4c9782083692c9989f83374d9"
   },
   "source": [
    "# Exploratory data analysis (EDA)\n",
    "\n",
    "The tasks that are assigned to analysts are quite diverse. However, it all starts with data.\n",
    "\n",
    "In this course, we will not touch on the business side of data analysis, but at the same time, we need to understand that data is not taken \"out of thin air\". As well as the tasks associated with it. In the book written by [Bill Franks](https://play.google.com/store/books/details/%D0%91_%D0%A4%D1%80%D1%8D%D0%BD%D0%BA%D1%81_%D0%A0%D0%B5%D0%B2%D0%BE%D0%BB%D1%8E%D1%86%D0%B8%D1%8F_%D0%B2_%D0%B0%D0%BD%D0%B0%D0%BB%D0%B8%D1%82%D0%B8%D0%BA%D0%B5_%D0%9A%D0%B0%D0%BA_%D0%B2_%D1%8D%D0%BF%D0%BE%D1%85%D1%83_Big_Dat?id=yPvkDQAAQBAJ) about operational analytics, the author focuses on the fact that ill-conceived investments in the collection and storage of data on the principle of \"what if they come in handy later\" often do not justify themselves. Only after a specific goal has been set the process of collecting (or possibly buying) and analyzing data can begin.\n",
    "\n",
    "Unfortunately, in practice, raw data is usually unsuitable and/or unusable for analysis. The process of preparing and cleaning the data (data preparation, preprocessing, data cleaning) can be **very time-consuming** and take more time than actually building and validating models based on data. Let's highlight some of the components of this process:\n",
    "\n",
    "- data specification and understanding\n",
    "- data editing, error correction\n",
    "- working with missing values\n",
    "- normalization (standartization)\n",
    "- feature extraction and selection\n",
    "\n",
    "As a result, we obtain data in a convenient format, usually in a tabular format. A table (or dataframe) has a \"objects-features\" structure: rows correspond to individual entities (objects, examples, instances), and columns correspond to attributes of these entities (features). We will see the example very soon."
   ]
  },
  {
   "cell_type": "markdown",
   "metadata": {
    "_uuid": "7b5c526b267307e94db36be2109fd6d2e9b73bce"
   },
   "source": [
    "## Python library ecosystem. NumPy\n",
    "\n",
    "Python is a high-level general purpose programming language. Today it is the most popular programming language in Data Science and Machine Learning. However, \"pure\" Python has a number of disadvantages, mainly related to code execution time. Traditional data structures like lists and tuples, as well as \"for-\" and \"while-\" loops, are \"slow\", and in the case of big data analysis this becomes a problem.\n",
    "\n",
    "Probably the most clear explanation of \"slowness\" of standard data types and loops we can see in the book by Jake VanderPlas: [https://jakevdp.github.io/PythonDataScienceHandbook/](https://jakevdp.github.io/PythonDataScienceHandbook/) (chapter 2, the paragraph \"Understanding Data Types in Python\").\n",
    "\n",
    "The [NumPy](https://numpy.org/) library is designed to work with multidimensional arrays (ndarrays) in such a way that the execution time for large data operations is **significantly faster** (sometimes hundreds or even thousands of times) than using \"pure\" Python. The library contains a large number of fast and high-level operations with one-, two- and multidimensional arrays (tensors), as well as a number of vector and matrix algebra functions. All higher-level libraries in the Python ecosystem work on the basis of NumPy arrays (Pandas, Matplotlib, Scikit-Learn, Tensorflow deep learning libraries, PyTorch and many others), which makes studying the ideology of NumPy arrays and the capabilities of this library a \"must-have\" skill for a data analyst."
   ]
  },
  {
   "cell_type": "markdown",
   "metadata": {
    "_uuid": "443d044d63f0da12fcb0fffbcfeaa6e87edc5676"
   },
   "source": [
    "## Pandas library\n",
    "\n",
    "[Pandas](https://pandas.pydata.org/) is a Python library for loading, preprocessing, transforming and combining data as well as for exploratory data analysis. Exploratory analysis precedes directly the construction of predictive machine learning models and is designed to help the researcher better understand the features of the dataset, the relationship (correlation) between features, and also draw the first simple conclusions based on the data. However, \"simple\" does not mean \"bad\". These (at first glance) primitive conclusions provide baselines for subsequent more complex models, and it may turn out that it is the patterns found at the exploratory analysis stage that will help achieve the desired goal without diving into complex machine learning models."
   ]
  },
  {
   "cell_type": "markdown",
   "metadata": {
    "_uuid": "8e6c7ce497a4272ac7226db2e2de5b9a9e1ad89f"
   },
   "source": [
    "## Data visualization. Matplotlib and Seaborn libraries\n",
    "\n",
    "An important component of exploratory data analysis is data visualization. High-quality graphs and charts help you see more than boring and monotonous tables. The Pandas library has built-in visualization tools based on Matplotlib graphics. The [Matplotlib](https://matplotlib.org/) library itself provides many low-level graphical tools, so that the researcher can control literally everything --- from the color of points to fonts on the coordinate axes. The [Seaborn](https://seaborn.pydata.org/) library contains more high-level features and is intended to make life easier for Matplotlib users to some extent by automating many routine things. Typically, the built-in Pandas graphics, Matplotlib and Seaborn libraries are used together, which we will demonstrate later."
   ]
  },
  {
   "cell_type": "markdown",
   "metadata": {},
   "source": [
    "## BI tools for data analysis\n",
    "\n",
    "Intense competition in global industries has made businesses seek out ways of managing their business processes for sustained growth. Organizations are seeking business intelligence (BI) solutions to achieve competitiveness through advanced data analysis (especially in the era of Big Data).\n",
    "\n",
    "These tools step up into collecting, analyzing, monitoring, and predicting future business scenarios by creating a clear perspective of all the data a company manages. Identifying trends, enabling self-service analytics, utilizing powerful visualizations, and offering professional **BI dashboards** are becoming the standard in business operations, strategic development, and ultimately, indispensable tools in increasing profit. And not just that, the self-service nature of these solutions gives access to every feature we just mentioned to all levels of users, without the need for any technical skills or specialized training. Making them the perfect solution to democratize the data analysis process and boost business performance.\n",
    "\n",
    "Here are some well-known BI tools: Microsoft Power BI, Tableau, SAS Business Intelligence, Zoho Analytics etc. \n",
    "\n"
   ]
  },
  {
   "cell_type": "code",
   "execution_count": 1,
   "metadata": {},
   "outputs": [],
   "source": [
    "# !pipenv run pip install numpy\n",
    "# !pip install numpy"
   ]
  },
  {
   "cell_type": "code",
   "execution_count": 3,
   "metadata": {
    "_cell_guid": "b1076dfc-b9ad-4769-8c92-a6c4dae69d19",
    "_uuid": "8f2839f25d086af736a60e9eeb907d3b93b6e0e5"
   },
   "outputs": [],
   "source": [
    "# Import of useful libraries\n",
    "import numpy as np \n",
    "import pandas as pd \n",
    "import matplotlib.pyplot as plt\n",
    "import seaborn as sns\n",
    "sns.set(); # fancy graphs"
   ]
  },
  {
   "cell_type": "markdown",
   "metadata": {
    "_cell_guid": "79c7e3d0-c299-4dcb-8224-4455121ee9b0",
    "_uuid": "d629ff2d2480ee46fbb7e2d37f6b5fab8052498a"
   },
   "source": [
    "## Data loading\n",
    "\n",
    "Pre-prepared and processed data is usually in a tabular format and stored as CSV files (as well as TSV, XLS, XLSX etc.). In this case, you should use the [read_csv](https://pandas.pydata.org/pandas-docs/stable/reference/api/pandas.read_csv.html) method. Data can also be loaded directly from tabular databases, and Pandas has the [read_sql](https://pandas.pydata.org/pandas-docs/stable/reference/api/pandas.read_sql.html) method for this purpose. In other cases, [read_json](https://pandas.pydata.org/pandas-docs/stable/reference/api/pandas.read_json.html) and [other methods](https://pandas.pydata.org/pandas-docs/stable/user_guide/io.html) can help.\n",
    "\n",
    "In this course, we are going to work not only with \"traditional\" tabular data, but also with text and images.\n",
    "\n",
    "The [read_csv](https://pandas.pydata.org/pandas-docs/stable/reference/api/pandas.read_csv.html) method has many configurable options. The most significant of them are: file name (or URL), type of cell separator (comma by default), presence of a header row (its number is indicated; by default, feature names are read from the first line of the file), presence of a column with row indices (identifiers) (a number is also specified; by default, --- is absent). For other options, please refer to the documentation."
   ]
  },
  {
   "cell_type": "code",
   "execution_count": 4,
   "metadata": {
    "_uuid": "dd72b3933eb33d237b9a621c8f70122ac355385e"
   },
   "outputs": [],
   "source": [
    "df = pd.read_csv('./data/cardio_train.csv', sep=';')"
   ]
  },
  {
   "cell_type": "markdown",
   "metadata": {
    "_uuid": "d8897eb884d1842ed68c2267f55e79d02d711af0"
   },
   "source": [
    "## First look at the data\n",
    "\n",
    "The [head(n)](https://pandas.pydata.org/docs/reference/api/pandas.DataFrame.head.html) method is designed to view the first **n** rows of the table (**n=5** by default). Similarly, the [tail(n)](https://pandas.pydata.org/docs/reference/api/pandas.DataFrame.tail.html) method returns the last **n** lines.\n"
   ]
  },
  {
   "cell_type": "code",
   "execution_count": 5,
   "metadata": {
    "_uuid": "959bc296a4eed56dbc5543bab17eb62147d61b7d"
   },
   "outputs": [
    {
     "data": {
      "text/html": [
       "<div>\n",
       "<style scoped>\n",
       "    .dataframe tbody tr th:only-of-type {\n",
       "        vertical-align: middle;\n",
       "    }\n",
       "\n",
       "    .dataframe tbody tr th {\n",
       "        vertical-align: top;\n",
       "    }\n",
       "\n",
       "    .dataframe thead th {\n",
       "        text-align: right;\n",
       "    }\n",
       "</style>\n",
       "<table border=\"1\" class=\"dataframe\">\n",
       "  <thead>\n",
       "    <tr style=\"text-align: right;\">\n",
       "      <th></th>\n",
       "      <th>id</th>\n",
       "      <th>age</th>\n",
       "      <th>gender</th>\n",
       "      <th>height</th>\n",
       "      <th>weight</th>\n",
       "      <th>ap_hi</th>\n",
       "      <th>ap_lo</th>\n",
       "      <th>cholesterol</th>\n",
       "      <th>gluc</th>\n",
       "      <th>smoke</th>\n",
       "      <th>alco</th>\n",
       "      <th>active</th>\n",
       "      <th>cardio</th>\n",
       "    </tr>\n",
       "  </thead>\n",
       "  <tbody>\n",
       "    <tr>\n",
       "      <th>0</th>\n",
       "      <td>0</td>\n",
       "      <td>18393</td>\n",
       "      <td>2</td>\n",
       "      <td>168</td>\n",
       "      <td>62.0</td>\n",
       "      <td>110</td>\n",
       "      <td>80</td>\n",
       "      <td>1</td>\n",
       "      <td>1</td>\n",
       "      <td>0</td>\n",
       "      <td>0</td>\n",
       "      <td>1</td>\n",
       "      <td>0</td>\n",
       "    </tr>\n",
       "    <tr>\n",
       "      <th>1</th>\n",
       "      <td>1</td>\n",
       "      <td>20228</td>\n",
       "      <td>1</td>\n",
       "      <td>156</td>\n",
       "      <td>85.0</td>\n",
       "      <td>140</td>\n",
       "      <td>90</td>\n",
       "      <td>3</td>\n",
       "      <td>1</td>\n",
       "      <td>0</td>\n",
       "      <td>0</td>\n",
       "      <td>1</td>\n",
       "      <td>1</td>\n",
       "    </tr>\n",
       "    <tr>\n",
       "      <th>2</th>\n",
       "      <td>2</td>\n",
       "      <td>18857</td>\n",
       "      <td>1</td>\n",
       "      <td>165</td>\n",
       "      <td>64.0</td>\n",
       "      <td>130</td>\n",
       "      <td>70</td>\n",
       "      <td>3</td>\n",
       "      <td>1</td>\n",
       "      <td>0</td>\n",
       "      <td>0</td>\n",
       "      <td>0</td>\n",
       "      <td>1</td>\n",
       "    </tr>\n",
       "    <tr>\n",
       "      <th>3</th>\n",
       "      <td>3</td>\n",
       "      <td>17623</td>\n",
       "      <td>2</td>\n",
       "      <td>169</td>\n",
       "      <td>82.0</td>\n",
       "      <td>150</td>\n",
       "      <td>100</td>\n",
       "      <td>1</td>\n",
       "      <td>1</td>\n",
       "      <td>0</td>\n",
       "      <td>0</td>\n",
       "      <td>1</td>\n",
       "      <td>1</td>\n",
       "    </tr>\n",
       "    <tr>\n",
       "      <th>4</th>\n",
       "      <td>4</td>\n",
       "      <td>17474</td>\n",
       "      <td>1</td>\n",
       "      <td>156</td>\n",
       "      <td>56.0</td>\n",
       "      <td>100</td>\n",
       "      <td>60</td>\n",
       "      <td>1</td>\n",
       "      <td>1</td>\n",
       "      <td>0</td>\n",
       "      <td>0</td>\n",
       "      <td>0</td>\n",
       "      <td>0</td>\n",
       "    </tr>\n",
       "  </tbody>\n",
       "</table>\n",
       "</div>"
      ],
      "text/plain": [
       "   id    age  gender  height  weight  ap_hi  ap_lo  cholesterol  gluc  smoke  \\\n",
       "0   0  18393       2     168    62.0    110     80            1     1      0   \n",
       "1   1  20228       1     156    85.0    140     90            3     1      0   \n",
       "2   2  18857       1     165    64.0    130     70            3     1      0   \n",
       "3   3  17623       2     169    82.0    150    100            1     1      0   \n",
       "4   4  17474       1     156    56.0    100     60            1     1      0   \n",
       "\n",
       "   alco  active  cardio  \n",
       "0     0       1       0  \n",
       "1     0       1       1  \n",
       "2     0       0       1  \n",
       "3     0       1       1  \n",
       "4     0       0       0  "
      ]
     },
     "execution_count": 5,
     "metadata": {},
     "output_type": "execute_result"
    }
   ],
   "source": [
    "df.head()"
   ]
  },
  {
   "cell_type": "markdown",
   "metadata": {},
   "source": [
    "If there are too many features (columns), it could be useful to transpose the output:"
   ]
  },
  {
   "cell_type": "code",
   "execution_count": 6,
   "metadata": {
    "_uuid": "5eb1925f9201cd9fdc26773001949293d91d9efa"
   },
   "outputs": [
    {
     "data": {
      "text/html": [
       "<div>\n",
       "<style scoped>\n",
       "    .dataframe tbody tr th:only-of-type {\n",
       "        vertical-align: middle;\n",
       "    }\n",
       "\n",
       "    .dataframe tbody tr th {\n",
       "        vertical-align: top;\n",
       "    }\n",
       "\n",
       "    .dataframe thead th {\n",
       "        text-align: right;\n",
       "    }\n",
       "</style>\n",
       "<table border=\"1\" class=\"dataframe\">\n",
       "  <thead>\n",
       "    <tr style=\"text-align: right;\">\n",
       "      <th></th>\n",
       "      <th>0</th>\n",
       "      <th>1</th>\n",
       "      <th>2</th>\n",
       "      <th>3</th>\n",
       "      <th>4</th>\n",
       "      <th>5</th>\n",
       "      <th>6</th>\n",
       "      <th>7</th>\n",
       "      <th>8</th>\n",
       "      <th>9</th>\n",
       "    </tr>\n",
       "  </thead>\n",
       "  <tbody>\n",
       "    <tr>\n",
       "      <th>id</th>\n",
       "      <td>0.0</td>\n",
       "      <td>1.0</td>\n",
       "      <td>2.0</td>\n",
       "      <td>3.0</td>\n",
       "      <td>4.0</td>\n",
       "      <td>8.0</td>\n",
       "      <td>9.0</td>\n",
       "      <td>12.0</td>\n",
       "      <td>13.0</td>\n",
       "      <td>14.0</td>\n",
       "    </tr>\n",
       "    <tr>\n",
       "      <th>age</th>\n",
       "      <td>18393.0</td>\n",
       "      <td>20228.0</td>\n",
       "      <td>18857.0</td>\n",
       "      <td>17623.0</td>\n",
       "      <td>17474.0</td>\n",
       "      <td>21914.0</td>\n",
       "      <td>22113.0</td>\n",
       "      <td>22584.0</td>\n",
       "      <td>17668.0</td>\n",
       "      <td>19834.0</td>\n",
       "    </tr>\n",
       "    <tr>\n",
       "      <th>gender</th>\n",
       "      <td>2.0</td>\n",
       "      <td>1.0</td>\n",
       "      <td>1.0</td>\n",
       "      <td>2.0</td>\n",
       "      <td>1.0</td>\n",
       "      <td>1.0</td>\n",
       "      <td>1.0</td>\n",
       "      <td>2.0</td>\n",
       "      <td>1.0</td>\n",
       "      <td>1.0</td>\n",
       "    </tr>\n",
       "    <tr>\n",
       "      <th>height</th>\n",
       "      <td>168.0</td>\n",
       "      <td>156.0</td>\n",
       "      <td>165.0</td>\n",
       "      <td>169.0</td>\n",
       "      <td>156.0</td>\n",
       "      <td>151.0</td>\n",
       "      <td>157.0</td>\n",
       "      <td>178.0</td>\n",
       "      <td>158.0</td>\n",
       "      <td>164.0</td>\n",
       "    </tr>\n",
       "    <tr>\n",
       "      <th>weight</th>\n",
       "      <td>62.0</td>\n",
       "      <td>85.0</td>\n",
       "      <td>64.0</td>\n",
       "      <td>82.0</td>\n",
       "      <td>56.0</td>\n",
       "      <td>67.0</td>\n",
       "      <td>93.0</td>\n",
       "      <td>95.0</td>\n",
       "      <td>71.0</td>\n",
       "      <td>68.0</td>\n",
       "    </tr>\n",
       "    <tr>\n",
       "      <th>ap_hi</th>\n",
       "      <td>110.0</td>\n",
       "      <td>140.0</td>\n",
       "      <td>130.0</td>\n",
       "      <td>150.0</td>\n",
       "      <td>100.0</td>\n",
       "      <td>120.0</td>\n",
       "      <td>130.0</td>\n",
       "      <td>130.0</td>\n",
       "      <td>110.0</td>\n",
       "      <td>110.0</td>\n",
       "    </tr>\n",
       "    <tr>\n",
       "      <th>ap_lo</th>\n",
       "      <td>80.0</td>\n",
       "      <td>90.0</td>\n",
       "      <td>70.0</td>\n",
       "      <td>100.0</td>\n",
       "      <td>60.0</td>\n",
       "      <td>80.0</td>\n",
       "      <td>80.0</td>\n",
       "      <td>90.0</td>\n",
       "      <td>70.0</td>\n",
       "      <td>60.0</td>\n",
       "    </tr>\n",
       "    <tr>\n",
       "      <th>cholesterol</th>\n",
       "      <td>1.0</td>\n",
       "      <td>3.0</td>\n",
       "      <td>3.0</td>\n",
       "      <td>1.0</td>\n",
       "      <td>1.0</td>\n",
       "      <td>2.0</td>\n",
       "      <td>3.0</td>\n",
       "      <td>3.0</td>\n",
       "      <td>1.0</td>\n",
       "      <td>1.0</td>\n",
       "    </tr>\n",
       "    <tr>\n",
       "      <th>gluc</th>\n",
       "      <td>1.0</td>\n",
       "      <td>1.0</td>\n",
       "      <td>1.0</td>\n",
       "      <td>1.0</td>\n",
       "      <td>1.0</td>\n",
       "      <td>2.0</td>\n",
       "      <td>1.0</td>\n",
       "      <td>3.0</td>\n",
       "      <td>1.0</td>\n",
       "      <td>1.0</td>\n",
       "    </tr>\n",
       "    <tr>\n",
       "      <th>smoke</th>\n",
       "      <td>0.0</td>\n",
       "      <td>0.0</td>\n",
       "      <td>0.0</td>\n",
       "      <td>0.0</td>\n",
       "      <td>0.0</td>\n",
       "      <td>0.0</td>\n",
       "      <td>0.0</td>\n",
       "      <td>0.0</td>\n",
       "      <td>0.0</td>\n",
       "      <td>0.0</td>\n",
       "    </tr>\n",
       "    <tr>\n",
       "      <th>alco</th>\n",
       "      <td>0.0</td>\n",
       "      <td>0.0</td>\n",
       "      <td>0.0</td>\n",
       "      <td>0.0</td>\n",
       "      <td>0.0</td>\n",
       "      <td>0.0</td>\n",
       "      <td>0.0</td>\n",
       "      <td>0.0</td>\n",
       "      <td>0.0</td>\n",
       "      <td>0.0</td>\n",
       "    </tr>\n",
       "    <tr>\n",
       "      <th>active</th>\n",
       "      <td>1.0</td>\n",
       "      <td>1.0</td>\n",
       "      <td>0.0</td>\n",
       "      <td>1.0</td>\n",
       "      <td>0.0</td>\n",
       "      <td>0.0</td>\n",
       "      <td>1.0</td>\n",
       "      <td>1.0</td>\n",
       "      <td>1.0</td>\n",
       "      <td>0.0</td>\n",
       "    </tr>\n",
       "    <tr>\n",
       "      <th>cardio</th>\n",
       "      <td>0.0</td>\n",
       "      <td>1.0</td>\n",
       "      <td>1.0</td>\n",
       "      <td>1.0</td>\n",
       "      <td>0.0</td>\n",
       "      <td>0.0</td>\n",
       "      <td>0.0</td>\n",
       "      <td>1.0</td>\n",
       "      <td>0.0</td>\n",
       "      <td>0.0</td>\n",
       "    </tr>\n",
       "  </tbody>\n",
       "</table>\n",
       "</div>"
      ],
      "text/plain": [
       "                   0        1        2        3        4        5        6  \\\n",
       "id               0.0      1.0      2.0      3.0      4.0      8.0      9.0   \n",
       "age          18393.0  20228.0  18857.0  17623.0  17474.0  21914.0  22113.0   \n",
       "gender           2.0      1.0      1.0      2.0      1.0      1.0      1.0   \n",
       "height         168.0    156.0    165.0    169.0    156.0    151.0    157.0   \n",
       "weight          62.0     85.0     64.0     82.0     56.0     67.0     93.0   \n",
       "ap_hi          110.0    140.0    130.0    150.0    100.0    120.0    130.0   \n",
       "ap_lo           80.0     90.0     70.0    100.0     60.0     80.0     80.0   \n",
       "cholesterol      1.0      3.0      3.0      1.0      1.0      2.0      3.0   \n",
       "gluc             1.0      1.0      1.0      1.0      1.0      2.0      1.0   \n",
       "smoke            0.0      0.0      0.0      0.0      0.0      0.0      0.0   \n",
       "alco             0.0      0.0      0.0      0.0      0.0      0.0      0.0   \n",
       "active           1.0      1.0      0.0      1.0      0.0      0.0      1.0   \n",
       "cardio           0.0      1.0      1.0      1.0      0.0      0.0      0.0   \n",
       "\n",
       "                   7        8        9  \n",
       "id              12.0     13.0     14.0  \n",
       "age          22584.0  17668.0  19834.0  \n",
       "gender           2.0      1.0      1.0  \n",
       "height         178.0    158.0    164.0  \n",
       "weight          95.0     71.0     68.0  \n",
       "ap_hi          130.0    110.0    110.0  \n",
       "ap_lo           90.0     70.0     60.0  \n",
       "cholesterol      3.0      1.0      1.0  \n",
       "gluc             3.0      1.0      1.0  \n",
       "smoke            0.0      0.0      0.0  \n",
       "alco             0.0      0.0      0.0  \n",
       "active           1.0      1.0      0.0  \n",
       "cardio           1.0      0.0      0.0  "
      ]
     },
     "execution_count": 6,
     "metadata": {},
     "output_type": "execute_result"
    }
   ],
   "source": [
    "df.head(10).T"
   ]
  },
  {
   "cell_type": "markdown",
   "metadata": {},
   "source": [
    "The [info()](https://pandas.pydata.org/docs/reference/api/pandas.DataFrame.info.html) method allows you to display general information about the dataset. We can find out the type of each feature, as well as whether there are missing values in the data."
   ]
  },
  {
   "cell_type": "code",
   "execution_count": 7,
   "metadata": {
    "_uuid": "5c3e2d8083a9fffabb0c55dc6878909bdfdd5ccf"
   },
   "outputs": [
    {
     "name": "stdout",
     "output_type": "stream",
     "text": [
      "<class 'pandas.core.frame.DataFrame'>\n",
      "RangeIndex: 70000 entries, 0 to 69999\n",
      "Data columns (total 13 columns):\n",
      " #   Column       Non-Null Count  Dtype  \n",
      "---  ------       --------------  -----  \n",
      " 0   id           70000 non-null  int64  \n",
      " 1   age          70000 non-null  int64  \n",
      " 2   gender       70000 non-null  int64  \n",
      " 3   height       70000 non-null  int64  \n",
      " 4   weight       70000 non-null  float64\n",
      " 5   ap_hi        70000 non-null  int64  \n",
      " 6   ap_lo        70000 non-null  int64  \n",
      " 7   cholesterol  70000 non-null  int64  \n",
      " 8   gluc         70000 non-null  int64  \n",
      " 9   smoke        70000 non-null  int64  \n",
      " 10  alco         70000 non-null  int64  \n",
      " 11  active       70000 non-null  int64  \n",
      " 12  cardio       70000 non-null  int64  \n",
      "dtypes: float64(1), int64(12)\n",
      "memory usage: 6.9 MB\n"
     ]
    }
   ],
   "source": [
    "df.info()"
   ]
  },
  {
   "cell_type": "markdown",
   "metadata": {},
   "source": [
    "The [describe()](https://pandas.pydata.org/docs/reference/api/pandas.DataFrame.describe.html) method allows you to collect some statistics for each numerical feature. For easier reading, the resulting table could be transposed."
   ]
  },
  {
   "cell_type": "code",
   "execution_count": 11,
   "metadata": {
    "_uuid": "e9c0c50dbc900b63835cbc52982d2c3efad6b18a"
   },
   "outputs": [
    {
     "data": {
      "text/html": [
       "<div>\n",
       "<style scoped>\n",
       "    .dataframe tbody tr th:only-of-type {\n",
       "        vertical-align: middle;\n",
       "    }\n",
       "\n",
       "    .dataframe tbody tr th {\n",
       "        vertical-align: top;\n",
       "    }\n",
       "\n",
       "    .dataframe thead th {\n",
       "        text-align: right;\n",
       "    }\n",
       "</style>\n",
       "<table border=\"1\" class=\"dataframe\">\n",
       "  <thead>\n",
       "    <tr style=\"text-align: right;\">\n",
       "      <th></th>\n",
       "      <th>count</th>\n",
       "      <th>mean</th>\n",
       "      <th>std</th>\n",
       "      <th>min</th>\n",
       "      <th>25%</th>\n",
       "      <th>50%</th>\n",
       "      <th>75%</th>\n",
       "      <th>max</th>\n",
       "    </tr>\n",
       "  </thead>\n",
       "  <tbody>\n",
       "    <tr>\n",
       "      <th>id</th>\n",
       "      <td>70000.0</td>\n",
       "      <td>49972.419900</td>\n",
       "      <td>28851.302323</td>\n",
       "      <td>0.0</td>\n",
       "      <td>25006.75</td>\n",
       "      <td>50001.5</td>\n",
       "      <td>74889.25</td>\n",
       "      <td>99999.0</td>\n",
       "    </tr>\n",
       "    <tr>\n",
       "      <th>age</th>\n",
       "      <td>70000.0</td>\n",
       "      <td>19468.865814</td>\n",
       "      <td>2467.251667</td>\n",
       "      <td>10798.0</td>\n",
       "      <td>17664.00</td>\n",
       "      <td>19703.0</td>\n",
       "      <td>21327.00</td>\n",
       "      <td>23713.0</td>\n",
       "    </tr>\n",
       "    <tr>\n",
       "      <th>gender</th>\n",
       "      <td>70000.0</td>\n",
       "      <td>1.349571</td>\n",
       "      <td>0.476838</td>\n",
       "      <td>1.0</td>\n",
       "      <td>1.00</td>\n",
       "      <td>1.0</td>\n",
       "      <td>2.00</td>\n",
       "      <td>2.0</td>\n",
       "    </tr>\n",
       "    <tr>\n",
       "      <th>height</th>\n",
       "      <td>70000.0</td>\n",
       "      <td>164.359229</td>\n",
       "      <td>8.210126</td>\n",
       "      <td>55.0</td>\n",
       "      <td>159.00</td>\n",
       "      <td>165.0</td>\n",
       "      <td>170.00</td>\n",
       "      <td>250.0</td>\n",
       "    </tr>\n",
       "    <tr>\n",
       "      <th>weight</th>\n",
       "      <td>70000.0</td>\n",
       "      <td>74.205690</td>\n",
       "      <td>14.395757</td>\n",
       "      <td>10.0</td>\n",
       "      <td>65.00</td>\n",
       "      <td>72.0</td>\n",
       "      <td>82.00</td>\n",
       "      <td>200.0</td>\n",
       "    </tr>\n",
       "    <tr>\n",
       "      <th>ap_hi</th>\n",
       "      <td>70000.0</td>\n",
       "      <td>128.817286</td>\n",
       "      <td>154.011419</td>\n",
       "      <td>-150.0</td>\n",
       "      <td>120.00</td>\n",
       "      <td>120.0</td>\n",
       "      <td>140.00</td>\n",
       "      <td>16020.0</td>\n",
       "    </tr>\n",
       "    <tr>\n",
       "      <th>ap_lo</th>\n",
       "      <td>70000.0</td>\n",
       "      <td>96.630414</td>\n",
       "      <td>188.472530</td>\n",
       "      <td>-70.0</td>\n",
       "      <td>80.00</td>\n",
       "      <td>80.0</td>\n",
       "      <td>90.00</td>\n",
       "      <td>11000.0</td>\n",
       "    </tr>\n",
       "    <tr>\n",
       "      <th>cholesterol</th>\n",
       "      <td>70000.0</td>\n",
       "      <td>1.366871</td>\n",
       "      <td>0.680250</td>\n",
       "      <td>1.0</td>\n",
       "      <td>1.00</td>\n",
       "      <td>1.0</td>\n",
       "      <td>2.00</td>\n",
       "      <td>3.0</td>\n",
       "    </tr>\n",
       "    <tr>\n",
       "      <th>gluc</th>\n",
       "      <td>70000.0</td>\n",
       "      <td>1.226457</td>\n",
       "      <td>0.572270</td>\n",
       "      <td>1.0</td>\n",
       "      <td>1.00</td>\n",
       "      <td>1.0</td>\n",
       "      <td>1.00</td>\n",
       "      <td>3.0</td>\n",
       "    </tr>\n",
       "    <tr>\n",
       "      <th>smoke</th>\n",
       "      <td>70000.0</td>\n",
       "      <td>0.088129</td>\n",
       "      <td>0.283484</td>\n",
       "      <td>0.0</td>\n",
       "      <td>0.00</td>\n",
       "      <td>0.0</td>\n",
       "      <td>0.00</td>\n",
       "      <td>1.0</td>\n",
       "    </tr>\n",
       "    <tr>\n",
       "      <th>alco</th>\n",
       "      <td>70000.0</td>\n",
       "      <td>0.053771</td>\n",
       "      <td>0.225568</td>\n",
       "      <td>0.0</td>\n",
       "      <td>0.00</td>\n",
       "      <td>0.0</td>\n",
       "      <td>0.00</td>\n",
       "      <td>1.0</td>\n",
       "    </tr>\n",
       "    <tr>\n",
       "      <th>active</th>\n",
       "      <td>70000.0</td>\n",
       "      <td>0.803729</td>\n",
       "      <td>0.397179</td>\n",
       "      <td>0.0</td>\n",
       "      <td>1.00</td>\n",
       "      <td>1.0</td>\n",
       "      <td>1.00</td>\n",
       "      <td>1.0</td>\n",
       "    </tr>\n",
       "    <tr>\n",
       "      <th>cardio</th>\n",
       "      <td>70000.0</td>\n",
       "      <td>0.499700</td>\n",
       "      <td>0.500003</td>\n",
       "      <td>0.0</td>\n",
       "      <td>0.00</td>\n",
       "      <td>0.0</td>\n",
       "      <td>1.00</td>\n",
       "      <td>1.0</td>\n",
       "    </tr>\n",
       "  </tbody>\n",
       "</table>\n",
       "</div>"
      ],
      "text/plain": [
       "               count          mean           std      min       25%      50%  \\\n",
       "id           70000.0  49972.419900  28851.302323      0.0  25006.75  50001.5   \n",
       "age          70000.0  19468.865814   2467.251667  10798.0  17664.00  19703.0   \n",
       "gender       70000.0      1.349571      0.476838      1.0      1.00      1.0   \n",
       "height       70000.0    164.359229      8.210126     55.0    159.00    165.0   \n",
       "weight       70000.0     74.205690     14.395757     10.0     65.00     72.0   \n",
       "ap_hi        70000.0    128.817286    154.011419   -150.0    120.00    120.0   \n",
       "ap_lo        70000.0     96.630414    188.472530    -70.0     80.00     80.0   \n",
       "cholesterol  70000.0      1.366871      0.680250      1.0      1.00      1.0   \n",
       "gluc         70000.0      1.226457      0.572270      1.0      1.00      1.0   \n",
       "smoke        70000.0      0.088129      0.283484      0.0      0.00      0.0   \n",
       "alco         70000.0      0.053771      0.225568      0.0      0.00      0.0   \n",
       "active       70000.0      0.803729      0.397179      0.0      1.00      1.0   \n",
       "cardio       70000.0      0.499700      0.500003      0.0      0.00      0.0   \n",
       "\n",
       "                  75%      max  \n",
       "id           74889.25  99999.0  \n",
       "age          21327.00  23713.0  \n",
       "gender           2.00      2.0  \n",
       "height         170.00    250.0  \n",
       "weight          82.00    200.0  \n",
       "ap_hi          140.00  16020.0  \n",
       "ap_lo           90.00  11000.0  \n",
       "cholesterol      2.00      3.0  \n",
       "gluc             1.00      3.0  \n",
       "smoke            0.00      1.0  \n",
       "alco             0.00      1.0  \n",
       "active           1.00      1.0  \n",
       "cardio           1.00      1.0  "
      ]
     },
     "execution_count": 11,
     "metadata": {},
     "output_type": "execute_result"
    }
   ],
   "source": [
    "df.describe().T"
   ]
  },
  {
   "cell_type": "markdown",
   "metadata": {
    "_uuid": "a9d47a01e76e90190b52cb148a786a531829c7e2"
   },
   "source": [
    "Note that some of the features are binary (**smoke**, **alco**, **active**, **cardio**), so standard descriptive statistics --- mean, standard deviation, median, quartiles --- do not make sense for them. In this case, the simple calculation of values, [value_counts()](https://pandas.pydata.org/docs/reference/api/pandas.Series.value_counts.html), will be more useful. For example, this way we can find out how many patients with identified cardiovascular disease (CVD) are in the sample."
   ]
  },
  {
   "cell_type": "code",
   "execution_count": 12,
   "metadata": {
    "_uuid": "03820539dcfd33f38735578b80942a5e3ac9e8bd"
   },
   "outputs": [
    {
     "data": {
      "text/plain": [
       "cardio\n",
       "0    35021\n",
       "1    34979\n",
       "Name: count, dtype: int64"
      ]
     },
     "execution_count": 12,
     "metadata": {},
     "output_type": "execute_result"
    }
   ],
   "source": [
    "df['cardio'].value_counts()"
   ]
  },
  {
   "cell_type": "markdown",
   "metadata": {
    "_uuid": "18d57f8b39de20013db6e9ef5018eb7e8428a855"
   },
   "source": [
    "We see that we have an approximately equal number of healthy and sick people, that is, classes 0 and 1 are balanced (we will talk about the problem of unbalanced classes later).\n",
    "\n",
    "Finally, the **normalize** parameter allows you to find out the percentage of each class:"
   ]
  },
  {
   "cell_type": "code",
   "execution_count": 13,
   "metadata": {
    "_uuid": "d11d45039c80ba630fd333ef7c4e74fd99404078"
   },
   "outputs": [
    {
     "data": {
      "text/plain": [
       "cardio\n",
       "0    0.5003\n",
       "1    0.4997\n",
       "Name: proportion, dtype: float64"
      ]
     },
     "execution_count": 13,
     "metadata": {},
     "output_type": "execute_result"
    }
   ],
   "source": [
    "df.cardio.value_counts(normalize=True)"
   ]
  },
  {
   "cell_type": "markdown",
   "metadata": {
    "_uuid": "181ebfe864fbf6795ab05e195fc524f82aee78a5"
   },
   "source": [
    "## One-dimensional feature analysis\n",
    "\n",
    "Let's look at the distribution of patient height values. The theory says that the height is a variable that usually has a normal distribution."
   ]
  },
  {
   "cell_type": "code",
   "execution_count": null,
   "metadata": {
    "_uuid": "113ac890e4f30d426dc6388a5741beb5cc31894d"
   },
   "outputs": [],
   "source": [
    "df['height'].hist();"
   ]
  },
  {
   "cell_type": "markdown",
   "metadata": {
    "_uuid": "c6d3b5cc73bfefa68d4008fc1a5b1fb5b94c193e"
   },
   "source": [
    "The default chart turned out to be uninformative. Let's try to improve the situation by adding the **bins** parameter."
   ]
  },
  {
   "cell_type": "code",
   "execution_count": null,
   "metadata": {
    "_uuid": "c5e9cee1ad52e08be0786e78d95905868cfacf9e"
   },
   "outputs": [],
   "source": [
    "df['height'].hist(bins=20);"
   ]
  },
  {
   "cell_type": "markdown",
   "metadata": {
    "_uuid": "6a60a0582b8da8d9b564bb5721a6c37d87d79324"
   },
   "source": [
    "As expected, we have something similar to the normal distribution histogram. However, **outliers** --- values that \"stand out\" from the overall picture --- are not visible on it. Therefore, sometimes it is more useful to use **boxplot** (\"box and whisker diagram\")."
   ]
  },
  {
   "cell_type": "code",
   "execution_count": null,
   "metadata": {
    "_uuid": "3eb6e1cb5c5e5a3aa1f7c686a77aa9819f829364"
   },
   "outputs": [],
   "source": [
    "sns.boxplot(df['height']);"
   ]
  },
  {
   "cell_type": "markdown",
   "metadata": {
    "_uuid": "a610eb68672f4c06830d86e62bb3789b314468fa"
   },
   "source": [
    "The width of the \"box\" is equal to interquartile range (IQR, the difference between third $Q_3$ and first $Q_1$ quartiles). The vertical line inside the box shows the median (second quartile). \"Whiskers\" limit the points that fall into the interval $[Q_1-1.5*IQR; Q_3+1.5*IQR]$. Finally, individual points on the graph correspond to outliers --- values that are not typical for this sample. As you can see, there were quite a few of them."
   ]
  },
  {
   "cell_type": "markdown",
   "metadata": {
    "_uuid": "9ad6b2bd47d447bb0c437446d9051dc66870d8e6"
   },
   "source": [
    "## Two- and more-dimensional feature analysis\n",
    "\n",
    "For example, a researcher may be interested in the question: what is the average age of healthy and sick patients? The age attribute has an inconvenient unit of measurement --- days, so let's convert it to a number of years."
   ]
  },
  {
   "cell_type": "code",
   "execution_count": null,
   "metadata": {
    "_uuid": "1274adb6c23b0c9b01258dd56ecdc60f623a6a27"
   },
   "outputs": [],
   "source": [
    "df['age'] = (df['age'] / 365).round()"
   ]
  },
  {
   "cell_type": "code",
   "execution_count": null,
   "metadata": {},
   "outputs": [],
   "source": [
    "df.head(5)"
   ]
  },
  {
   "cell_type": "markdown",
   "metadata": {},
   "source": [
    "Note that we're using a **method** here, not a standard round **function**. This greatly speeds up the calculations. The operation \"divide a column by a number\" works intuitively --- each element is divided by this number. NumPy magic in action!"
   ]
  },
  {
   "cell_type": "markdown",
   "metadata": {
    "_uuid": "cef53d9b4e1896c9802265a640310904fe916904"
   },
   "source": [
    "### GROUP BY\n",
    "\n",
    "Attention: here we become familiar with one very useful operation --- grouping. The [groupby()](https://pandas.pydata.org/docs/reference/api/pandas.DataFrame.groupby.html) method works similar to the GROUP BY operator in SQL and allows you to group data by one or more attributes, then calculate the aggregates in each group. The syntax is quite simple, concise and intuitive."
   ]
  },
  {
   "cell_type": "code",
   "execution_count": null,
   "metadata": {
    "_uuid": "f5648baf448caa0e076b55a748c5538f09797ea6"
   },
   "outputs": [],
   "source": [
    "df.groupby('cardio')['age'].mean()"
   ]
  },
  {
   "cell_type": "markdown",
   "metadata": {
    "_uuid": "15d51f83e42f9b8613bc879f5201cade1f82bd3f"
   },
   "source": [
    "Calculations show that the average age of people with CVD is slightly higher than that of healthy people. These calculations can also be visualized using Pandas' built-in graphics."
   ]
  },
  {
   "cell_type": "code",
   "execution_count": null,
   "metadata": {
    "_uuid": "f85092c80c842670dca738098371691ef6dff73f"
   },
   "outputs": [],
   "source": [
    "df.groupby('cardio')['age'].mean().plot(kind='bar') \n",
    "plt.ylabel('Age')\n",
    "plt.show();"
   ]
  },
  {
   "cell_type": "markdown",
   "metadata": {
    "_uuid": "bd15ac28c3438bf4877466dc7543a96d6a951e6f"
   },
   "source": [
    "### Countplot\n",
    "Now let's try to see how the number of healthy and sick patients is distributed by age groups. The [countplot](https://seaborn.pydata.org/generated/seaborn.countplot.html) of the Seaborn library will help us here."
   ]
  },
  {
   "cell_type": "code",
   "execution_count": null,
   "metadata": {
    "_uuid": "a61e84454eb4afef9b33430ab3dab7c23d2f07a8"
   },
   "outputs": [],
   "source": [
    "plt.figure(figsize=(15, 8))\n",
    "sns.countplot(y='age', hue='cardio', data=df);"
   ]
  },
  {
   "cell_type": "markdown",
   "metadata": {
    "_uuid": "92ea80e18b57d56254588542fe19997e7fc6f143"
   },
   "source": [
    "An important observation --- starting from the age of 55, the number of sick patients exceeds the number of healthy ones."
   ]
  },
  {
   "cell_type": "markdown",
   "metadata": {
    "_uuid": "b97793b21339e9fc4a29d33ca3bcc52ab5890ed6"
   },
   "source": [
    "### Scatter plot\n",
    "\n",
    "A useful type of plot for investigating pairs of numeric features is a scatter plot. Consider the age and height of patients."
   ]
  },
  {
   "cell_type": "code",
   "execution_count": null,
   "metadata": {
    "_uuid": "143e0e9ed99ff27257e3ba30d1149d584cd9ec61"
   },
   "outputs": [],
   "source": [
    "plt.scatter(df['age'], df['height']);"
   ]
  },
  {
   "cell_type": "markdown",
   "metadata": {
    "_uuid": "5b9eaf9f5c880c49621a0f63974797d3ce4ef46d"
   },
   "source": [
    "Here it becomes clear that our outliers in the data are simply input errors. Unless, of course, we did not conduct a study among Lilliputians :)"
   ]
  },
  {
   "cell_type": "markdown",
   "metadata": {
    "_uuid": "6f95627d798ab6d9707125e20b28b83b4af80450"
   },
   "source": [
    "To study the joint distribution of two numerical features, the jointplot of the Seaborn library can be useful:"
   ]
  },
  {
   "cell_type": "code",
   "execution_count": null,
   "metadata": {
    "_uuid": "7dd0fc2958763bbcdff23d323a6beb591359e93d"
   },
   "outputs": [],
   "source": [
    "sns.jointplot(x='height', y='weight', data=df);"
   ]
  },
  {
   "cell_type": "markdown",
   "metadata": {
    "_uuid": "96e48bd8438be95e5269f5bef1dd181b5b6aa014"
   },
   "source": [
    "Errors and anomalies in the data are clearly visible in this graph as well. It can also be concluded that, without taking into account outliers, height and weight have distributions that are close to normal."
   ]
  },
  {
   "cell_type": "markdown",
   "metadata": {
    "_uuid": "a4a7ee2249ecc4b6e5717ba94e9a0210f509f722"
   },
   "source": [
    "### Pivot tables\n",
    "\n",
    "For the study of three or more features, pivot tables are useful tools. This tool is well known to advanced users of Excel spreadsheets, Google Spreadsheets. Consider how to use the pivot table to answer the questions:\n",
    "- is it true that with age people become more prone to drinking alcohol;\n",
    "- is it true that among smokers the percentage of CVD is higher."
   ]
  },
  {
   "cell_type": "code",
   "execution_count": null,
   "metadata": {
    "_uuid": "3a86593aa83ad9966a4439706aa2a9658c69e86d"
   },
   "outputs": [],
   "source": [
    "# values - features by which the values of the aggfunc function are calculated\n",
    "# index - features by which grouping is performed\n",
    "df.pivot_table(values=['age', 'cardio'], index=['smoke', 'alco'], aggfunc='mean')"
   ]
  },
  {
   "cell_type": "markdown",
   "metadata": {
    "_uuid": "9fb1fb07009e2c094dd293abd3723c9138659b7e"
   },
   "source": [
    "As you can see, the answers to both questions are negative. Drinking habits do not appear to be correlated with age, and CVD rates are higher among non-smokers."
   ]
  },
  {
   "cell_type": "markdown",
   "metadata": {
    "_uuid": "7fe5f7d12f3f70256407c1f1ecfbdcc809d5316e"
   },
   "source": [
    "To understand how drinking and smoking are related, let's look at the crosstab (contingency table):"
   ]
  },
  {
   "cell_type": "code",
   "execution_count": null,
   "metadata": {
    "_uuid": "1f5161aa255f357af3719afcc28d36055cb4d8b2"
   },
   "outputs": [],
   "source": [
    "pd.crosstab(df['smoke'], df['alco'])"
   ]
  },
  {
   "cell_type": "markdown",
   "metadata": {
    "_uuid": "7d5d04a74139eb2032333a898c9cc4fd4859ea42"
   },
   "source": [
    "So far, we can only say that there are significantly more non-drinking and non-smoking patients than all the rest. For reasonable conclusions about the relationship, one should turn to numerical calculations."
   ]
  },
  {
   "cell_type": "markdown",
   "metadata": {
    "_uuid": "63fe272bab3fcbaba2810e7047b2981648c94940"
   },
   "source": [
    "## Selecting data by condition. Indexing methods in Pandas\n",
    "\n",
    "Sometimes we need to perform calculations not on the entire training set, but on some part of it. To do this, you need to know and understand how to access cells in dataframes.\n",
    "\n",
    "Let's start with the study of one feature \"in itself\". Let's take **height** as an example."
   ]
  },
  {
   "cell_type": "code",
   "execution_count": null,
   "metadata": {
    "_uuid": "02fd5a7508f506c9f1281a411f6b6258ff701ef4"
   },
   "outputs": [],
   "source": [
    "h = df['height']\n",
    "type(h) "
   ]
  },
  {
   "cell_type": "markdown",
   "metadata": {
    "_uuid": "8c9a81c1368bc70262fc8fbd6379b0dcd3e20710"
   },
   "source": [
    "Thus, we see that the table (DataFrame) is a set of named columns (Series). Columns are accessed by the key --- column name, as in Python dictionaries. Technically, you can think of a dataframe as a dictionary of columns.\n",
    "\n",
    "But what about the rows?"
   ]
  },
  {
   "cell_type": "code",
   "execution_count": null,
   "metadata": {
    "_uuid": "9b80987f47c3403c3d9c83a9e857f541421748f5"
   },
   "outputs": [],
   "source": [
    "# first_patient = df[0]"
   ]
  },
  {
   "cell_type": "markdown",
   "metadata": {
    "_uuid": "47c321b61301baefcf437c0438107b98601940ab"
   },
   "source": [
    "Oops! We got an error: KeyError means there is no column named \"0\". That is, we cannot access the string through a regular index. To do this, we will need an \"implicit\" index (implicit loc, iloc)."
   ]
  },
  {
   "cell_type": "code",
   "execution_count": null,
   "metadata": {
    "_uuid": "fd84ce4f6813cf8ab3dd149ea58d8a3f5fba2269"
   },
   "outputs": [],
   "source": [
    "first_patient = df.iloc[0]\n",
    "print(first_patient)"
   ]
  },
  {
   "cell_type": "markdown",
   "metadata": {
    "_uuid": "78d338a0e27cf4c6ece03992658c9c61ab1d2fb3"
   },
   "source": [
    "Again, we see that technically a dataframe row is a dictionary. The keys of the dictionary are the names of the columns, the values are the values of the features for the given row.\n",
    "\n",
    "To find out, for example, the age of the first patient (without storing it in a separate variable), you need to apply explicit indexing (loc):"
   ]
  },
  {
   "cell_type": "code",
   "execution_count": null,
   "metadata": {
    "_uuid": "d65b13692e329cb076e3b79d857dc0832b4c69c3"
   },
   "outputs": [],
   "source": [
    "print(df.loc[0, 'age'])"
   ]
  },
  {
   "cell_type": "markdown",
   "metadata": {
    "_uuid": "84e837ccfb4e015e674e928f582c638537abbd46"
   },
   "source": [
    "Let's return now to the variable **h**. Recall that we stored in it all the values from the **height** column. Height is in centimeters. Let's convert to meters."
   ]
  },
  {
   "cell_type": "code",
   "execution_count": null,
   "metadata": {
    "_uuid": "6d95d2fcdb879e5b83924757503ebef2c3df2b5a"
   },
   "outputs": [],
   "source": [
    "h_meters = h / 100 \n",
    "h_meters[:10] "
   ]
  },
  {
   "cell_type": "markdown",
   "metadata": {
    "_uuid": "364c5c05b858ceacee53092dab40286ebff6f3b0"
   },
   "source": [
    "Above, in several charts, we saw that there are errors among the height values. Let's see how many patients are shorter than 125 cm. Attention, the question is --- how to solve this problem in the \"classical\" style?"
   ]
  },
  {
   "cell_type": "code",
   "execution_count": null,
   "metadata": {
    "_uuid": "288b50d4d3e17b8c8ba64900210d93839bb83df9"
   },
   "outputs": [],
   "source": [
    "%%timeit\n",
    "lilliputs = 0\n",
    "for value in h:\n",
    "    if value < 125:\n",
    "        lilliputs = lilliputs + 1"
   ]
  },
  {
   "cell_type": "markdown",
   "metadata": {
    "_uuid": "619947f6edc606e425e31e6e0d891eec4ef87219"
   },
   "source": [
    "Now let's solve the same problem in NumPy style:"
   ]
  },
  {
   "cell_type": "code",
   "execution_count": null,
   "metadata": {
    "_uuid": "d88c25db7a8642e53748a6ad3eabf454039f4863"
   },
   "outputs": [],
   "source": [
    "%%timeit\n",
    "h[h < 125].shape[0]"
   ]
  },
  {
   "cell_type": "markdown",
   "metadata": {
    "_uuid": "b79e68977b49bdc9ff3f6ff6d613cb12f15278cb"
   },
   "source": [
    "So, the second method turned out to be faster by about 5 times on a data set of 70,000 values (relatively small). As the length of the vector grows, loops become hundreds and thousands of times slower than vectorized NumPy operations."
   ]
  },
  {
   "cell_type": "markdown",
   "metadata": {
    "_uuid": "2d3764615b7db9db83464a7ad7b939daa459ef99"
   },
   "source": [
    "The selection from an array of values can be performed by a conditional index. It works similarly for selecting rows in a dataframe. Let's calculate the average age of smokers."
   ]
  },
  {
   "cell_type": "code",
   "execution_count": null,
   "metadata": {
    "_uuid": "5eb9c2e12426f85fae47f4bfd73fb95bd92a37d5"
   },
   "outputs": [],
   "source": [
    "df[df['smoke'] == 1]['age'].mean()"
   ]
  },
  {
   "cell_type": "markdown",
   "metadata": {},
   "source": [
    "Condition also can be complex:"
   ]
  },
  {
   "cell_type": "code",
   "execution_count": null,
   "metadata": {
    "_uuid": "9d1793692fbe9b2a0f6c9d4fa12ae0fa33c15b8d"
   },
   "outputs": [],
   "source": [
    "df[(df['smoke'] == 1) & (df['cardio'] == 1)]['age'].mean()"
   ]
  },
  {
   "cell_type": "markdown",
   "metadata": {
    "_uuid": "98032a313ae9bfab9c22b0dc63a0fa0458c68da8"
   },
   "source": [
    "## Dataframe filtering. Deleting rows and columns\n",
    "\n",
    "The [drop()](https://pandas.pydata.org/docs/reference/api/pandas.DataFrame.drop.html) method is used to remove rows and columns in a dataframe. Consider deleting by keys and by condition.\n",
    "\n",
    "Let's delete the target feature, **cardio**."
   ]
  },
  {
   "cell_type": "code",
   "execution_count": null,
   "metadata": {
    "_uuid": "0204a44c6e499711c5180c39f403d461cf7cc4b9"
   },
   "outputs": [],
   "source": [
    "dummy_df = df.drop('cardio', axis=1)\n",
    "dummy_df.head()"
   ]
  },
  {
   "cell_type": "markdown",
   "metadata": {},
   "source": [
    "Now, let's delete the first 100 patients:"
   ]
  },
  {
   "cell_type": "code",
   "execution_count": null,
   "metadata": {
    "_uuid": "eea7df2c30da545277e0359342686929b1527eb5"
   },
   "outputs": [],
   "source": [
    "dummy_df = df.drop(np.arange(100), axis=0)\n",
    "dummy_df.head()"
   ]
  },
  {
   "cell_type": "markdown",
   "metadata": {},
   "source": [
    "And finally, we will remove all the patients with a height below 125 cm, as well as above 200 cm."
   ]
  },
  {
   "cell_type": "code",
   "execution_count": null,
   "metadata": {
    "_uuid": "c782eef93243c01b8886a96e0d567fcf2a3e0d7f"
   },
   "outputs": [],
   "source": [
    "dummy_df = df.drop(df[(df['height'] < 125) | (df['height'] > 200)].index)\n",
    "dummy_df.shape[0] / df.shape[0]"
   ]
  },
  {
   "cell_type": "markdown",
   "metadata": {
    "_uuid": "ec88bfab5ed38cb31c20b18e37e871beefce96e4"
   },
   "source": [
    "As you can see, the percentage of outliers is small --- the remaining sample is 99.9% of the original."
   ]
  },
  {
   "cell_type": "markdown",
   "metadata": {
    "_uuid": "83512f0d940e1b6d4d6ac005ecc1cd9c05ff4043"
   },
   "source": [
    "## Adding new features"
   ]
  },
  {
   "cell_type": "code",
   "execution_count": null,
   "metadata": {
    "_uuid": "e978c53eb0b9ecf2f7e155c86399247f52837ebf"
   },
   "outputs": [],
   "source": [
    "df['height_cm'] = df['height'] / 100\n",
    "df.head()"
   ]
  },
  {
   "cell_type": "markdown",
   "metadata": {
    "_uuid": "a61ff033ebf1d6a4bf3550de16c774645f29a1a8"
   },
   "source": [
    "## Encoding feature values\n",
    "\n",
    "Our dataset contains only numerical values, but often there are **categorical** features. In this case one of the encoding procedures must be applied at the preprocessing stage. The simplest type of encoding is the replacement of some values with others (**label encoding**). In this case, we will have to (solely for the purpose of demonstrating the operation of the method) apply the inverse operation. For example, we recode the feature \"cholesterol level\" according to the principle:\n",
    "\n",
    "- 1 --- \"low\"\n",
    "- 2 ---\"normal\"\n",
    "- 3 ---\"high\""
   ]
  },
  {
   "cell_type": "code",
   "execution_count": null,
   "metadata": {
    "_uuid": "fa023a33f0fc254713858255d66c44a6dad9187b"
   },
   "outputs": [],
   "source": [
    "new_values = {1:'low', 2:'normal', 3:'high'}\n",
    "df['dummy_cholesterol'] = df['cholesterol'].map(new_values)\n",
    "df.head()"
   ]
  },
  {
   "cell_type": "markdown",
   "metadata": {
    "_uuid": "b5549d984f13afbe7307f6fcf82512fab463e182"
   },
   "source": [
    "Let's recode the target feature **cardio** into boolean (True/False)."
   ]
  },
  {
   "cell_type": "code",
   "execution_count": null,
   "metadata": {
    "_uuid": "9df95520d51165a7609914fc388ffd1c4a8980d0"
   },
   "outputs": [],
   "source": [
    "df['cardio'] = df['cardio'].astype(bool)\n",
    "df.head()"
   ]
  },
  {
   "cell_type": "markdown",
   "metadata": {
    "_uuid": "4bc24c40af5fd52a7956d01ca47d674335a423bc"
   },
   "source": [
    "# Завдання\n",
    "\n",
    "1. Визначте кількість чоловіків і жінок серед досліджуваних. Зверніть увагу, що способу кодування змінної статі ми не знаємо. Домовимося, що чоловіки в середньому вище жінок.\n",
    "\n",
    "2. Правда, що чоловіки більш схильні до вживання алкоголю, ніж жінки?\n",
    "\n",
    "3. Яка різниця між кількістю чоловіків та жінок, що палять?\n",
    "\n",
    "4. Яка різниця між середніми значеннями віку для курців та не курців?\n",
    "\n",
    "5. Створіть нову ознаку --- BMI (body mass index, індекс маси тіла, ІМТ). Для цього потрібно розділити вагу на зріст в квадраті. Вважається, що нормальний ІМТ -- від 18 до 25. Оберіть вірні судження:\n",
    "\n",
    "    (a) Середній ІМТ знаходиться в діапазоні нормальних значень ІМТ.\n",
    "\n",
    "    (b) ІМТ жінок в середньому вищий за чоловіків.\n",
    "\n",
    "    (c) У здорових людей в середньому вищий ІМТ ніж у людей з ССЗ.\n",
    "\n",
    "    (d) Для здорових не вживаючих алкоголь чоловіків ІМТ менший, ніж у здорових невживаючих жінок.\n",
    "\n",
    "6. Видаліть пацієнтів у котрих діастолічний тиск вищий за систолічний. Який відсоток даних було втрачено?\n",
    "\n",
    "7. Як розподілена змінна BMI? Чи є викиди?\n",
    "\n",
    "8. Як співвідносяться наявність ССЗ та ІМТ? Надайте підходящу візуалізацію.\n"
   ]
  },
  {
   "cell_type": "code",
   "execution_count": null,
   "metadata": {},
   "outputs": [],
   "source": [
    "data = pd.read_csv('./data/cardio_train.csv', delimiter=';')"
   ]
  },
  {
   "cell_type": "code",
   "execution_count": null,
   "metadata": {},
   "outputs": [],
   "source": [
    "data.head(5)"
   ]
  },
  {
   "cell_type": "code",
   "execution_count": null,
   "metadata": {},
   "outputs": [],
   "source": [
    "# 1\n",
    "\n",
    "avg_height = data['height'].mean()\n",
    "data['gender'] = 'm'\n",
    "data.loc[data.height < avg_height, 'gender'] = 'f'"
   ]
  },
  {
   "cell_type": "code",
   "execution_count": null,
   "metadata": {},
   "outputs": [],
   "source": [
    "len(data.loc[data.weight > 67])"
   ]
  },
  {
   "cell_type": "code",
   "execution_count": null,
   "metadata": {},
   "outputs": [],
   "source": [
    "data['gender'].value_counts()"
   ]
  },
  {
   "cell_type": "code",
   "execution_count": null,
   "metadata": {},
   "outputs": [],
   "source": []
  },
  {
   "cell_type": "code",
   "execution_count": null,
   "metadata": {},
   "outputs": [],
   "source": [
    "# 2\n",
    "proportion_alco = data.groupby('gender')['alco'].mean()\n",
    "plt.figure(figsize=(8, 5))\n",
    "sns.barplot(x=proportion_alco.index, y=proportion_alco.values, palette='viridis')\n",
    "plt.xlabel('Gender')\n",
    "plt.ylabel('Proportion of Drinkers')\n",
    "plt.title('Proportion of Drinkers by Gender')\n",
    "plt.xticks(ticks=[0, 1], labels=['Female', 'Male'])\n",
    "plt.show()"
   ]
  },
  {
   "cell_type": "code",
   "execution_count": null,
   "metadata": {},
   "outputs": [],
   "source": [
    "# 3\n",
    "smoker_counts = data.loc[data['smoke'] == 1].groupby('gender').size()\n",
    "\n",
    "difference = smoker_counts['m'] - smoker_counts['f'] # Assuming 1 is Male and 0 is Female\n",
    "\n",
    "print(\"Difference between male and female smokers:\", difference)\n",
    "smoker_counts"
   ]
  },
  {
   "cell_type": "code",
   "execution_count": null,
   "metadata": {},
   "outputs": [],
   "source": [
    "# 4\n",
    "data['age'] = data['age'] // 365\n",
    "average_age_smokers = data[data['smoke'] == 1]['age'].mean()\n",
    "\n",
    "average_age_non_smokers = data[data['smoke'] == 0]['age'].mean()\n",
    "\n",
    "age_difference = average_age_smokers - average_age_non_smokers\n",
    "\n",
    "print(\"Average age of smokers:\", average_age_smokers)\n",
    "print(\"Average age of non-smokers:\", average_age_non_smokers)\n",
    "print(\"Difference in average age between smokers and non-smokers:\", age_difference)"
   ]
  },
  {
   "cell_type": "code",
   "execution_count": null,
   "metadata": {},
   "outputs": [],
   "source": [
    "# 5.1\n",
    "data['height_m'] = data['height'] / 100\n",
    "\n",
    "data['BMI'] = data['weight'] / (data['height_m'] ** 2)\n",
    "\n",
    "average_bmi = data['BMI'].mean()\n",
    "\n",
    "is_bmi_in_range = 18 <= average_bmi <= 25\n",
    "\n",
    "print(\"Average BMI:\", average_bmi)\n",
    "print(\"Is the average BMI between 18 and 25?\", is_bmi_in_range)"
   ]
  },
  {
   "cell_type": "code",
   "execution_count": null,
   "metadata": {},
   "outputs": [],
   "source": [
    "# 5.2\n",
    "average_bmi_by_gender = data.groupby('gender')['BMI'].mean()\n",
    "\n",
    "average_bmi_female = average_bmi_by_gender['f'] \n",
    "average_bmi_male = average_bmi_by_gender['m']\n",
    "\n",
    "is_female_bmi_higher = average_bmi_female > average_bmi_male\n",
    "\n",
    "# Print the results\n",
    "print(\"Average BMI of females:\", average_bmi_female)\n",
    "print(\"Average BMI of males:\", average_bmi_male)\n",
    "print(\"Is the average BMI of females higher than that of males?\", is_female_bmi_higher)"
   ]
  },
  {
   "cell_type": "code",
   "execution_count": null,
   "metadata": {},
   "outputs": [],
   "source": [
    "# 5.3 \n",
    "\n",
    "average_bmi_by_cardio = df.groupby('cardio')['BMI'].mean()\n",
    "\n",
    "average_bmi_healthy = average_bmi_by_cardio.get(0) \n",
    "average_bmi_cardio_issues = average_bmi_by_cardio.get(1)\n",
    "\n",
    "is_healthy_bmi_higher = average_bmi_healthy > average_bmi_cardio_issues\n",
    "\n",
    "# Print the results\n",
    "print(\"Average BMI of healthy individuals:\", average_bmi_healthy)\n",
    "print(\"Average BMI of individuals with cardiovascular issues:\", average_bmi_cardio_issues)\n",
    "print(\"Is the average BMI of healthy individuals higher than that of those with cardiovascular issues?\", is_healthy_bmi_higher)"
   ]
  },
  {
   "cell_type": "code",
   "execution_count": null,
   "metadata": {},
   "outputs": [],
   "source": [
    "# 5.4\n",
    "data.pivot_table(values=['BMI'], index=['gender', 'cardio'], aggfunc='mean')"
   ]
  },
  {
   "cell_type": "code",
   "execution_count": null,
   "metadata": {},
   "outputs": [],
   "source": []
  }
 ],
 "metadata": {
  "kaggle": {
   "accelerator": "none",
   "dataSources": [
    {
     "datasetId": 107706,
     "sourceId": 256873,
     "sourceType": "datasetVersion"
    }
   ],
   "dockerImageVersionId": 21695,
   "isGpuEnabled": false,
   "isInternetEnabled": false,
   "language": "python",
   "sourceType": "notebook"
  },
  "kernelspec": {
   "display_name": "Python 3 (ipykernel)",
   "language": "python",
   "name": "python3"
  },
  "language_info": {
   "codemirror_mode": {
    "name": "ipython",
    "version": 3
   },
   "file_extension": ".py",
   "mimetype": "text/x-python",
   "name": "python",
   "nbconvert_exporter": "python",
   "pygments_lexer": "ipython3",
   "version": "3.8.7rc1"
  }
 },
 "nbformat": 4,
 "nbformat_minor": 4
}
