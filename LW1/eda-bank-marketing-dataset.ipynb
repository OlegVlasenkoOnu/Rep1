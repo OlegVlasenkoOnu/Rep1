{
 "cells": [
  {
   "cell_type": "code",
   "execution_count": null,
   "metadata": {
    "_cell_guid": "b1076dfc-b9ad-4769-8c92-a6c4dae69d19",
    "_uuid": "8f2839f25d086af736a60e9eeb907d3b93b6e0e5"
   },
   "outputs": [],
   "source": [
    "# Input data files are available in the \"../input/\" directory.\n",
    "# For example, running this (by clicking run or pressing Shift+Enter) will list the files in the input directory\n",
    "\n",
    "import os\n",
    "print(os.listdir(\"./input\"))\n",
    "\n",
    "# Any results you write to the current directory are saved as output."
   ]
  },
  {
   "cell_type": "markdown",
   "metadata": {
    "_cell_guid": "79c7e3d0-c299-4dcb-8224-4455121ee9b0",
    "_uuid": "d629ff2d2480ee46fbb7e2d37f6b5fab8052498a"
   },
   "source": [
    "Підключіть необхідні бібліотеки."
   ]
  },
  {
   "cell_type": "code",
   "execution_count": 111,
   "metadata": {
    "_uuid": "a1060e8e1885cc5395a732755855c65507152775"
   },
   "outputs": [],
   "source": [
    "import numpy as np\n",
    "import pandas as pd\n",
    "import matplotlib.pyplot as plt\n",
    "import seaborn as sns\n",
    "sns.set(rc={'figure.figsize':(10, 8)}); # you can change this if needed"
   ]
  },
  {
   "cell_type": "markdown",
   "metadata": {},
   "source": [
    "## Data loading"
   ]
  },
  {
   "cell_type": "markdown",
   "metadata": {
    "_uuid": "7638c27c3c61f69a96be6096c48e50a8cfa58b87"
   },
   "source": [
    "Завантажте дані. Вони знаходяться у директорії input."
   ]
  },
  {
   "cell_type": "code",
   "execution_count": 112,
   "metadata": {
    "_uuid": "b547d9151495ae3d598a8a7ee31cf56e166353e2"
   },
   "outputs": [],
   "source": [
    "df = pd.read_csv('./input/bank-additional-full.csv', delimiter = ';')"
   ]
  },
  {
   "cell_type": "markdown",
   "metadata": {},
   "source": [
    "## Data understanding\n",
    "\n",
    "* Виведіть загальну інформацію про набір даних. Яку кількість змінних він містить? Який тип змінних? Чи багато пропущених значень?\n",
    "* Виведіть описову статистику по числовим змінним. Зробіть візуалізацію розподілів найцікавіших із них. Що можна сказати про наявність помилкових значень? Чи багато нетипових значень?\n",
    "* Виведіть описову статистику по категоріальним змінним. Зробіть візуалізацію розподілів найцікавіших із них."
   ]
  },
  {
   "cell_type": "code",
   "execution_count": null,
   "metadata": {},
   "outputs": [],
   "source": [
    "df.info()"
   ]
  },
  {
   "cell_type": "markdown",
   "metadata": {},
   "source": [
    "* кількість змінних - 21.\n",
    "* Тип змінних - цілі(int64), дійсні(float64) та об'екти(object).\n",
    "* Пропущених значень немає усі non-null."
   ]
  },
  {
   "cell_type": "code",
   "execution_count": null,
   "metadata": {},
   "outputs": [],
   "source": [
    "df.head(5)"
   ]
  },
  {
   "cell_type": "code",
   "execution_count": null,
   "metadata": {},
   "outputs": [],
   "source": [
    "# далі йде описова статистика числових змінних\n",
    "df.describe().T"
   ]
  },
  {
   "cell_type": "code",
   "execution_count": null,
   "metadata": {},
   "outputs": [],
   "source": [
    "numeric_cols = ['age', 'duration', 'campaign', 'pdays', 'previous', 'emp.var.rate', 'cons.price.idx', 'cons.conf.idx', 'euribor3m', 'nr.employed']\n",
    "sns.pairplot(df[numeric_cols])\n",
    "plt.show()\n"
   ]
  },
  {
   "cell_type": "code",
   "execution_count": null,
   "metadata": {},
   "outputs": [],
   "source": [
    "for x in numeric_cols:\n",
    "    sns.boxplot(df[x])\n",
    "    plt.title(x)\n",
    "    plt.show()"
   ]
  },
  {
   "cell_type": "markdown",
   "metadata": {},
   "source": [
    "У змінних 'age', 'duration', 'campaign', 'pdays', 'previous' е виброси, нетипові значення. Помилкови значення duration = 0,campaign > 50 - значення більше 50 свідчать про аномалію.\n",
    "\n",
    "Висновки:\n",
    "* Для багатьох змінних є потенційні виброси або нетипові значення, але це не завжди свідчить про помилку (наприклад, літні клієнти старші за 90 років можуть бути реальними).\n",
    "* Окремі змінні, такі як duration, можуть мати 0 значення, що варто вважати неінформативними для моделі.\n",
    "* Високі значення в таких змінних, як campaign або previous, можуть бути аномальними, особливо якщо вони значно перевищують середні або 75-й процентиль."
   ]
  },
  {
   "cell_type": "markdown",
   "metadata": {},
   "source": [
    "категоріальні змінні"
   ]
  },
  {
   "cell_type": "code",
   "execution_count": null,
   "metadata": {},
   "outputs": [],
   "source": [
    "# Подивимося на унікальні значення та частоти для категоріальних змінних\n",
    "categorical_cols = df.select_dtypes(include=['object']).columns\n",
    "df[categorical_cols].describe().T\n",
    "\n"
   ]
  },
  {
   "cell_type": "code",
   "execution_count": null,
   "metadata": {},
   "outputs": [],
   "source": [
    "# Візуалізація розподілу для змінної 'job'\n",
    "plt.figure(figsize=(10, 6))\n",
    "sns.countplot(x='job', data=df)\n",
    "plt.title('Розподіл за професіями')\n",
    "plt.xticks(rotation=90)\n",
    "plt.show()\n",
    "\n",
    "# Візуалізація розподілу для змінної 'marital'\n",
    "plt.figure(figsize=(6, 4))\n",
    "sns.countplot(x='marital', data=df)\n",
    "plt.title('Розподіл за сімейним станом')\n",
    "plt.show()\n",
    "\n",
    "# Візуалізація розподілу для змінної 'education'\n",
    "plt.figure(figsize=(8, 5))\n",
    "sns.countplot(x='education', data=df)\n",
    "plt.title('Розподіл за рівнем освіти')\n",
    "plt.xticks(rotation=45)\n",
    "plt.show()"
   ]
  },
  {
   "cell_type": "markdown",
   "metadata": {},
   "source": [
    "Основні висновки щодо розподілу категоріальних змінних job (професія), marital (сімейний стан) і education (освіта):\n",
    "\n",
    "1. Професія (job):\n",
    "* Найбільше клієнтів працюють в адмініструванні та на виробництві (\"admin.\" і \"blue-collar\").\n",
    "* Мало клієнтів серед студентів та безробітних.\n",
    "* Маркетинг: Можна налаштувати окремі пропозиції для різних професій, адже кожна з них має різні фінансові потреби.\n",
    "2. Сімейний стан (marital):\n",
    "* Більшість клієнтів — одружені.\n",
    "* Менше клієнтів серед неодружених і розлучених.\n",
    "* Маркетинг: Одружені клієнти можуть мати більше потреб у довгострокових фінансових продуктах.\n",
    "3. Освіта (education):\n",
    "* Найбільше клієнтів з вищою освітою.\n",
    "* Клієнтів з базовою освітою менше.\n",
    "* Маркетинг: Продукти можна адаптувати під різні рівні освіти — для клієнтів з вищою освітою можуть бути цікаві складніші банківські продукти.\n",
    "\n",
    "Загалом:\n",
    "* Основна аудиторія — це одружені клієнти з вищою освітою.\n",
    "* Є можливість краще орієнтувати пропозиції на різні групи клієнтів."
   ]
  },
  {
   "cell_type": "markdown",
   "metadata": {},
   "source": [
    "Загальний висновок:\n",
    "Багато змінних мають категорії з великим перекосом у значеннях (наприклад, більшість клієнтів не мають кредитів, іпотек або дефолту).\n",
    "Цільова змінна y має значний дисбаланс класів: більшість клієнтів (понад 88%) не підписалися на депозит."
   ]
  },
  {
   "cell_type": "markdown",
   "metadata": {},
   "source": [
    "## Data cleaning & Analyzing relationships\n",
    "\n",
    "У подальших етапах за необхідності видаляйте (або заповнюйте певним чином) пропущені значення та/або викиди (outliers). Цей крок не є обов'язковим, проте слід пам'ятати, що деякі коефіцієнти кореляції та моделі чутливі до наявності нетипових значень у даних."
   ]
  },
  {
   "cell_type": "markdown",
   "metadata": {
    "_uuid": "35e4f8b27ba039d58bec483c3d0bba58e8ac9458"
   },
   "source": [
    "Який середній вік неодружених клієнтів?"
   ]
  },
  {
   "cell_type": "code",
   "execution_count": null,
   "metadata": {
    "_uuid": "ea1fe73734223ed7f2e8db41f0a1850bb55d8eaa"
   },
   "outputs": [],
   "source": [
    "# Your code\n",
    "df[df['marital']!='married']['age'].mean()"
   ]
  },
  {
   "cell_type": "markdown",
   "metadata": {
    "_uuid": "c4066eda5c9caf7d997264b27c1c180369c2ae09"
   },
   "source": [
    "В який день тижня (ознака **day_of_week**) найчастіше дзвонили клієнтам, які відмовилися від депозиту?"
   ]
  },
  {
   "cell_type": "code",
   "execution_count": null,
   "metadata": {
    "_uuid": "112bd8744be7266be28009af0c710f868e1ee397"
   },
   "outputs": [],
   "source": [
    "# Your code\n",
    "day_of_week_no_deposit = df[df['y'] == 'no']['day_of_week'].value_counts()\n",
    "# print(day_of_week_no_deposit)\n",
    "most_frequent_day = day_of_week_no_deposit.idxmax()\n",
    "most_frequent_count = day_of_week_no_deposit.max()\n",
    "print(f\"Найчастіше дзвонили у {most_frequent_day}: {most_frequent_count} дзвінків\")\n"
   ]
  },
  {
   "cell_type": "markdown",
   "metadata": {
    "_uuid": "b0de879a489f8021c61333df10c4534ed9e077ab"
   },
   "source": [
    "Побудуйте інфографіку за ознаками **marital** та **y**. Які висновки можна зробити?"
   ]
  },
  {
   "cell_type": "code",
   "execution_count": null,
   "metadata": {
    "_uuid": "73723ebd755725ec07f6ec641dc611bb75f4da6b"
   },
   "outputs": [],
   "source": [
    "# Your code\n",
    "# Створимо зведену таблицю для підрахунку кількості клієнтів за ознаками \"marital\" і \"y\"\n",
    "marital_y_counts = df.groupby(['marital', 'y']).size().unstack()\n",
    "\n",
    "# Побудуємо стовпчасту діаграму\n",
    "marital_y_counts.plot(kind='bar', stacked=True, figsize=(10, 6))\n",
    "\n",
    "# Додаємо заголовки та підписи осей\n",
    "plt.title('Розподіл клієнтів за сімейним станом і підпискою на депозит')\n",
    "plt.xlabel('Сімейний стан')\n",
    "plt.ylabel('Кількість клієнтів')\n",
    "plt.legend(title='Підписка на депозит')\n",
    "plt.show()"
   ]
  },
  {
   "cell_type": "markdown",
   "metadata": {},
   "source": [
    "Висновки:\n",
    "* Більшість клієнтів — одружені, але навіть серед них підписка на депозит не є поширеною.\n",
    "* Для ефективного маркетингу можна краще орієнтуватися на одружених клієнтів, оскільки вони складають основну частку, але також важливо шукати способи залучити клієнтів інших категорій сімейного стану."
   ]
  },
  {
   "cell_type": "markdown",
   "metadata": {
    "_uuid": "daec9e3257f7c09ad72e69e8fd49ca52b4cc74b4"
   },
   "source": [
    "Чи є зв'язок між наявністю кредиту (**default**) у клієнта та результатом? Побудуйте інфографіку."
   ]
  },
  {
   "cell_type": "code",
   "execution_count": null,
   "metadata": {
    "_uuid": "5005e5a7b32e3d916eb7216b5d81db285ea6f76a"
   },
   "outputs": [],
   "source": [
    "# Your code\n",
    "plt.figure(figsize=(8, 6))\n",
    "sns.countplot(x='default', hue='y', data=df)\n",
    "plt.title('Зв\\'язок між наявністю кредиту (default) та результатом підписки на депозит')\n",
    "plt.xlabel('Наявність кредиту (default)')\n",
    "plt.ylabel('Кількість клієнтів')\n",
    "plt.legend(title='Підписка на депозит', loc='upper right')\n",
    "plt.show()"
   ]
  },
  {
   "cell_type": "markdown",
   "metadata": {},
   "source": [
    "Висновок зв'язок є\n",
    "* Клієнти без кредіту найчастіше підписалися на депозит \n",
    "* Клієнти зі статусом невідомо частіше відповідали ні"
   ]
  },
  {
   "cell_type": "markdown",
   "metadata": {
    "_uuid": "8e8b6b7aa82776eb5e4a28e5217484fc6012b375"
   },
   "source": [
    "Візуалізуйте інформацію про рівень освіти залежно від середнього віку. Чи є статистично значущим взаємозв'язок між ними?"
   ]
  },
  {
   "cell_type": "code",
   "execution_count": null,
   "metadata": {
    "_uuid": "f2a99898c1952e70cfa64f29e76e6eb55a59f169"
   },
   "outputs": [],
   "source": [
    "# Your code\n",
    "plt.figure(figsize=(10, 6))\n",
    "sns.barplot(x='education', y='age', data=df, estimator=np.mean)\n",
    "plt.title('Середній вік клієнтів залежно від рівня освіти')\n",
    "plt.xlabel('Рівень освіти')\n",
    "plt.ylabel('Середній вік')\n",
    "plt.xticks(rotation=45)\n",
    "plt.show()"
   ]
  },
  {
   "cell_type": "markdown",
   "metadata": {},
   "source": [
    "Вважаю що взаємозв'язок між ними не є статистично значущим, тому що в цілому картина одинакова для різніх видів освіти"
   ]
  },
  {
   "cell_type": "markdown",
   "metadata": {
    "_uuid": "57507a8292cab204329204effb8d717b71a8c117"
   },
   "source": [
    "Що можна сказати про зв'язок між тривалістю контакту (ознака **duration**) та віком клієнта? Знайдіть коефіцієнт кореляції."
   ]
  },
  {
   "cell_type": "code",
   "execution_count": null,
   "metadata": {
    "_uuid": "4a2dee97638228fd711c336ff1bbf917d6d62aa9"
   },
   "outputs": [],
   "source": [
    "# Your code\n",
    "correlation = df['duration'].corr(df['age'])\n",
    "print(f\"Коефіцієнт кореляції між duration і age: {correlation}\")"
   ]
  },
  {
   "cell_type": "markdown",
   "metadata": {},
   "source": [
    "Коефіцієнт кореляції практично нульовий тому можна сказати що вони ніяк незалежать один від одного."
   ]
  },
  {
   "cell_type": "markdown",
   "metadata": {
    "_uuid": "6c97ed03bca4e706b836e07e1f2d6cfaa35afd38"
   },
   "source": [
    "Як пов'язані ознаки **education** та **housing**?"
   ]
  },
  {
   "cell_type": "code",
   "execution_count": null,
   "metadata": {
    "_uuid": "74fb43d87dbcad0b3d58c89bd4427f49c9eb59de"
   },
   "outputs": [],
   "source": [
    "# Your code\n",
    "# Створюємо таблицю перехресних частот для education та housing\n",
    "education_housing_crosstab = pd.crosstab(df['education'], df['housing'])\n",
    "print(education_housing_crosstab)"
   ]
  },
  {
   "cell_type": "code",
   "execution_count": null,
   "metadata": {},
   "outputs": [],
   "source": [
    "# Візуалізація розподілу ознак education і housing\n",
    "plt.figure(figsize=(10, 6))\n",
    "sns.countplot(x='education', hue='housing', data=df)\n",
    "plt.title('Розподіл клієнтів за рівнем освіти і наявністю іпотеки')\n",
    "plt.xlabel('Рівень освіти')\n",
    "plt.ylabel('Кількість клієнтів')\n",
    "plt.xticks(rotation=45)\n",
    "plt.show()"
   ]
  },
  {
   "cell_type": "markdown",
   "metadata": {},
   "source": [
    "Загальні висновки:\n",
    "* Клієнти з вищою освітою та професійною підготовкою частіше мають іпотеку.\n",
    "* Клієнти з базовою освітою мають приблизно однакову ймовірність наявності або відсутності іпотеки.\n",
    "* Невідомий рівень освіти не показує чіткої тенденції, але частка клієнтів з іпотекою також присутня."
   ]
  },
  {
   "cell_type": "markdown",
   "metadata": {
    "_uuid": "44bf61d231e373547197afc53c049f97bcd8dee2"
   },
   "source": [
    "Які ще інсайти можна знайти в наявних даних? Творче завдання."
   ]
  },
  {
   "cell_type": "code",
   "execution_count": null,
   "metadata": {
    "_uuid": "52f95916fef96cecf13d16b2734a4cc5e6db0bfd"
   },
   "outputs": [],
   "source": [
    "# Your code\n",
    "# Вибираємо економічні індикатори\n",
    "economic_indicators = ['emp.var.rate', 'cons.price.idx', 'cons.conf.idx', 'euribor3m', 'nr.employed']\n",
    "\n",
    "# Створюємо зведену таблицю середніх значень для підписаних і непідписаних клієнтів\n",
    "economic_analysis = df.groupby('y')[economic_indicators].mean()\n",
    "\n",
    "print(economic_analysis)"
   ]
  },
  {
   "cell_type": "code",
   "execution_count": null,
   "metadata": {},
   "outputs": [],
   "source": [
    "for indicator in economic_indicators:\n",
    "    plt.figure(figsize=(8, 6))\n",
    "    sns.boxplot(x='y', y=indicator, data=df)\n",
    "    plt.title(f'Вплив {indicator} на підписку')\n",
    "    plt.xlabel('Підписка на депозит')\n",
    "    plt.ylabel(indicator)\n",
    "    plt.show()"
   ]
  },
  {
   "cell_type": "markdown",
   "metadata": {},
   "source": [
    "Висновок\n",
    "* Клієнти частіше підписуються на депозити під час економічного спаду (зниження зайнятості, нижчий рівень Euribor). Це може свідчити про те, що в кризових умовах клієнти шукають надійні фінансові інструменти для збереження своїх коштів.\n",
    "* Зайнятість і ставка Euribor відіграють важливу роль у прийнятті рішень щодо підписки на депозит. Коли економічна ситуація стабільна, клієнти менше схильні вкладати кошти у депозити, і навпаки, під час нестабільності вони більше цікавляться цими продуктами.\n",
    "* Індекс споживчої довіри і споживчі ціни не демонструють значного впливу на рішення клієнтів, але деякі клієнти з більшою довірою до економіки можуть бути зацікавлені в підписці на депозити."
   ]
  }
 ],
 "metadata": {
  "kaggle": {
   "accelerator": "none",
   "dataSources": [
    {
     "datasetId": 30368,
     "sourceId": 38700,
     "sourceType": "datasetVersion"
    }
   ],
   "dockerImageVersionId": 22557,
   "isGpuEnabled": false,
   "isInternetEnabled": false,
   "language": "python",
   "sourceType": "notebook"
  },
  "kernelspec": {
   "display_name": "Python 3",
   "language": "python",
   "name": "python3"
  },
  "language_info": {
   "codemirror_mode": {
    "name": "ipython",
    "version": 3
   },
   "file_extension": ".py",
   "mimetype": "text/x-python",
   "name": "python",
   "nbconvert_exporter": "python",
   "pygments_lexer": "ipython3",
   "version": "3.8.7"
  }
 },
 "nbformat": 4,
 "nbformat_minor": 4
}
